{
 "cells": [
  {
   "cell_type": "markdown",
   "id": "603d731a",
   "metadata": {
    "id": "civjokOj7QjO",
    "papermill": {
     "duration": 0.007445,
     "end_time": "2024-04-16T03:17:11.236134",
     "exception": false,
     "start_time": "2024-04-16T03:17:11.228689",
     "status": "completed"
    },
    "tags": []
   },
   "source": [
    "# Exercício de Classificação de Análise de Sentimentos"
   ]
  },
  {
   "cell_type": "markdown",
   "id": "bce3420c",
   "metadata": {
    "id": "cXJ_o_NM7QjR",
    "papermill": {
     "duration": 0.006558,
     "end_time": "2024-04-16T03:17:11.249804",
     "exception": false,
     "start_time": "2024-04-16T03:17:11.243246",
     "status": "completed"
    },
    "tags": []
   },
   "source": [
    "O objetivo do exercício é explorar técnicas de pré-processamento de texto, como remoção de stopwords, tokenização e stemming, além de aplicar técnicas de vetorização, como Bag of Words (BoW) e Term Frequency-Inverse Document Frequency (TF-IDF) para classificar a polaridade de tweets em positivas ou negativas."
   ]
  },
  {
   "cell_type": "markdown",
   "id": "d2833a52",
   "metadata": {
    "id": "nNMDueIY7QjT",
    "papermill": {
     "duration": 0.006307,
     "end_time": "2024-04-16T03:17:11.262717",
     "exception": false,
     "start_time": "2024-04-16T03:17:11.256410",
     "status": "completed"
    },
    "tags": []
   },
   "source": [
    "## Importar bibliotecas, carregar datasets, etc."
   ]
  },
  {
   "cell_type": "code",
   "execution_count": 1,
   "id": "3df2e6bf",
   "metadata": {
    "execution": {
     "iopub.execute_input": "2024-04-16T03:17:11.277689Z",
     "iopub.status.busy": "2024-04-16T03:17:11.277308Z",
     "iopub.status.idle": "2024-04-16T03:17:19.282764Z",
     "shell.execute_reply": "2024-04-16T03:17:19.281888Z"
    },
    "id": "2T0MXrZQ7QjV",
    "papermill": {
     "duration": 8.016126,
     "end_time": "2024-04-16T03:17:19.285303",
     "exception": false,
     "start_time": "2024-04-16T03:17:11.269177",
     "status": "completed"
    },
    "tags": []
   },
   "outputs": [],
   "source": [
    "# importar bibliotecas basicas:\n",
    "import random\n",
    "import pandas as pd\n",
    "import seaborn as sns\n",
    "import matplotlib.pyplot as plt\n",
    "\n",
    "# bibliotecas complementares\n",
    "import codecs\n",
    "import nltk\n",
    "import re\n",
    "import spacy\n",
    "import string\n",
    "import unicodedata\n",
    "\n",
    "# scikit\n",
    "from sklearn.feature_extraction.text import CountVectorizer, TfidfVectorizer\n",
    "from sklearn.model_selection import train_test_split\n",
    "from sklearn.decomposition import PCA, TruncatedSVD\n",
    "from sklearn.metrics import classification_report,confusion_matrix"
   ]
  },
  {
   "cell_type": "code",
   "execution_count": 2,
   "id": "c64f79b1",
   "metadata": {
    "execution": {
     "iopub.execute_input": "2024-04-16T03:17:19.301689Z",
     "iopub.status.busy": "2024-04-16T03:17:19.300540Z",
     "iopub.status.idle": "2024-04-16T03:17:19.305569Z",
     "shell.execute_reply": "2024-04-16T03:17:19.304553Z"
    },
    "id": "OIMvrbpB7QjX",
    "papermill": {
     "duration": 0.015269,
     "end_time": "2024-04-16T03:17:19.307647",
     "exception": false,
     "start_time": "2024-04-16T03:17:19.292378",
     "status": "completed"
    },
    "tags": []
   },
   "outputs": [],
   "source": [
    "# aleatoriedade controlada\n",
    "random.seed(42)"
   ]
  },
  {
   "cell_type": "code",
   "execution_count": 3,
   "id": "49a3eb62",
   "metadata": {
    "execution": {
     "iopub.execute_input": "2024-04-16T03:17:19.323055Z",
     "iopub.status.busy": "2024-04-16T03:17:19.322650Z",
     "iopub.status.idle": "2024-04-16T03:17:19.570386Z",
     "shell.execute_reply": "2024-04-16T03:17:19.569309Z"
    },
    "id": "fFIzaQR97Qja",
    "papermill": {
     "duration": 0.258595,
     "end_time": "2024-04-16T03:17:19.573152",
     "exception": false,
     "start_time": "2024-04-16T03:17:19.314557",
     "status": "completed"
    },
    "tags": []
   },
   "outputs": [],
   "source": [
    "# carregar dataset de treino\n",
    "train = pd.read_csv('/kaggle/input/enap-anlise-de-sentimentos/train.csv', index_col=0)"
   ]
  },
  {
   "cell_type": "markdown",
   "id": "8f25a193",
   "metadata": {
    "id": "KjuNxj2A7Qjd",
    "papermill": {
     "duration": 0.007441,
     "end_time": "2024-04-16T03:17:19.587444",
     "exception": false,
     "start_time": "2024-04-16T03:17:19.580003",
     "status": "completed"
    },
    "tags": []
   },
   "source": [
    "## Pré analise"
   ]
  },
  {
   "cell_type": "code",
   "execution_count": 4,
   "id": "3db94281",
   "metadata": {
    "execution": {
     "iopub.execute_input": "2024-04-16T03:17:19.602545Z",
     "iopub.status.busy": "2024-04-16T03:17:19.602133Z",
     "iopub.status.idle": "2024-04-16T03:17:19.614378Z",
     "shell.execute_reply": "2024-04-16T03:17:19.613143Z"
    },
    "id": "bNSI2uxe7Qjg",
    "outputId": "13b5af1f-6206-4d52-f88d-c1750497107f",
    "papermill": {
     "duration": 0.022409,
     "end_time": "2024-04-16T03:17:19.616462",
     "exception": false,
     "start_time": "2024-04-16T03:17:19.594053",
     "status": "completed"
    },
    "tags": []
   },
   "outputs": [
    {
     "name": "stdout",
     "output_type": "stream",
     "text": [
      "                                                      text  target\n",
      "ID                                                                \n",
      "1439813  @sweet19 thanksies but ur so lucky u are in hi...       4\n",
      "621715                at the park playing tennis. i suck.        0\n",
      "1188021               @tontokaru happy belated bday babe!        4\n",
      "300651              @DxBLOCK  DM me your number again pls        0\n",
      "757974                           Rest in Peace Ed McMahon        0\n",
      "...                                                    ...     ...\n",
      "1312263  @conc3p  &quot;I want him to watch&quot; + &qu...       4\n",
      "143846                       @gershgorin that's awful!!!!        0\n",
      "1253750  @HipMamaB LOL - I remember that episode!!  (wh...       4\n",
      "134415                          @cooliesupreme I am sorry        0\n",
      "1218280     @sesam not to worry, I don't use lifts either        4\n",
      "\n",
      "[70000 rows x 2 columns]\n"
     ]
    }
   ],
   "source": [
    "# Pré avaliação do dataset que está sendo carregado\n",
    "print(train)"
   ]
  },
  {
   "cell_type": "markdown",
   "id": "557f1695",
   "metadata": {
    "id": "KjWawf1M7Qjn",
    "papermill": {
     "duration": 0.006654,
     "end_time": "2024-04-16T03:17:19.629938",
     "exception": false,
     "start_time": "2024-04-16T03:17:19.623284",
     "status": "completed"
    },
    "tags": []
   },
   "source": [
    "Dá pra notar que tem muita 💩 no texto...\n",
    "exemplos:\n",
    "* uso de simbolos: @ ! ; + &\n",
    "* girias: LOL DM bday ur\n",
    "* erro de grafias: thanksies\n"
   ]
  },
  {
   "cell_type": "code",
   "execution_count": 5,
   "id": "2238cc2f",
   "metadata": {
    "execution": {
     "iopub.execute_input": "2024-04-16T03:17:19.645361Z",
     "iopub.status.busy": "2024-04-16T03:17:19.644938Z",
     "iopub.status.idle": "2024-04-16T03:17:19.666824Z",
     "shell.execute_reply": "2024-04-16T03:17:19.665756Z"
    },
    "id": "aj9kL8Q77Qjq",
    "outputId": "05b64154-ebe9-4031-bb45-cd57c4511eaf",
    "papermill": {
     "duration": 0.032186,
     "end_time": "2024-04-16T03:17:19.669167",
     "exception": false,
     "start_time": "2024-04-16T03:17:19.636981",
     "status": "completed"
    },
    "tags": []
   },
   "outputs": [
    {
     "data": {
      "text/html": [
       "<div>\n",
       "<style scoped>\n",
       "    .dataframe tbody tr th:only-of-type {\n",
       "        vertical-align: middle;\n",
       "    }\n",
       "\n",
       "    .dataframe tbody tr th {\n",
       "        vertical-align: top;\n",
       "    }\n",
       "\n",
       "    .dataframe thead th {\n",
       "        text-align: right;\n",
       "    }\n",
       "</style>\n",
       "<table border=\"1\" class=\"dataframe\">\n",
       "  <thead>\n",
       "    <tr style=\"text-align: right;\">\n",
       "      <th></th>\n",
       "      <th>text</th>\n",
       "      <th>target</th>\n",
       "    </tr>\n",
       "    <tr>\n",
       "      <th>ID</th>\n",
       "      <th></th>\n",
       "      <th></th>\n",
       "    </tr>\n",
       "  </thead>\n",
       "  <tbody>\n",
       "    <tr>\n",
       "      <th>1439813</th>\n",
       "      <td>@sweet19 thanksies but ur so lucky u are in hi...</td>\n",
       "      <td>4</td>\n",
       "    </tr>\n",
       "    <tr>\n",
       "      <th>621715</th>\n",
       "      <td>at the park playing tennis. i suck.</td>\n",
       "      <td>0</td>\n",
       "    </tr>\n",
       "    <tr>\n",
       "      <th>1188021</th>\n",
       "      <td>@tontokaru happy belated bday babe!</td>\n",
       "      <td>4</td>\n",
       "    </tr>\n",
       "    <tr>\n",
       "      <th>300651</th>\n",
       "      <td>@DxBLOCK  DM me your number again pls</td>\n",
       "      <td>0</td>\n",
       "    </tr>\n",
       "    <tr>\n",
       "      <th>757974</th>\n",
       "      <td>Rest in Peace Ed McMahon</td>\n",
       "      <td>0</td>\n",
       "    </tr>\n",
       "  </tbody>\n",
       "</table>\n",
       "</div>"
      ],
      "text/plain": [
       "                                                      text  target\n",
       "ID                                                                \n",
       "1439813  @sweet19 thanksies but ur so lucky u are in hi...       4\n",
       "621715                at the park playing tennis. i suck.        0\n",
       "1188021               @tontokaru happy belated bday babe!        4\n",
       "300651              @DxBLOCK  DM me your number again pls        0\n",
       "757974                           Rest in Peace Ed McMahon        0"
      ]
     },
     "execution_count": 5,
     "metadata": {},
     "output_type": "execute_result"
    }
   ],
   "source": [
    "train.dropna()\n",
    "train.columns = ['text','target']\n",
    "train.head()"
   ]
  },
  {
   "cell_type": "markdown",
   "id": "bee9f58d",
   "metadata": {
    "id": "HHP1u5tJ7f6R",
    "papermill": {
     "duration": 0.006775,
     "end_time": "2024-04-16T03:17:19.683205",
     "exception": false,
     "start_time": "2024-04-16T03:17:19.676430",
     "status": "completed"
    },
    "tags": []
   },
   "source": [
    "### Avaliação de distribuição das classes alvo"
   ]
  },
  {
   "cell_type": "code",
   "execution_count": 6,
   "id": "d5b51c31",
   "metadata": {
    "execution": {
     "iopub.execute_input": "2024-04-16T03:17:19.699216Z",
     "iopub.status.busy": "2024-04-16T03:17:19.698795Z",
     "iopub.status.idle": "2024-04-16T03:17:19.966590Z",
     "shell.execute_reply": "2024-04-16T03:17:19.965782Z"
    },
    "papermill": {
     "duration": 0.279767,
     "end_time": "2024-04-16T03:17:19.969999",
     "exception": false,
     "start_time": "2024-04-16T03:17:19.690232",
     "status": "completed"
    },
    "tags": []
   },
   "outputs": [
    {
     "name": "stderr",
     "output_type": "stream",
     "text": [
      "/opt/conda/lib/python3.10/site-packages/seaborn/_oldcore.py:1765: FutureWarning: unique with argument that is not not a Series, Index, ExtensionArray, or np.ndarray is deprecated and will raise in a future version.\n",
      "  order = pd.unique(vector)\n"
     ]
    },
    {
     "data": {
      "image/png": "[encoded data removed]",
      "text/plain": [
       "<Figure size 640x480 with 1 Axes>"
      ]
     },
     "metadata": {},
     "output_type": "display_data"
    },
    {
     "name": "stdout",
     "output_type": "stream",
     "text": [
      "1.0017157563625965\n"
     ]
    }
   ],
   "source": [
    "# \"extrair a quantidade de cada classe\n",
    "Positive = train[train['target'] == 4].shape[0]\n",
    "Negative = train[train['target'] == 0].shape[0]\n",
    "\n",
    "# Definir os rótulos e valores das barras\n",
    "labels = ['Negativo', 'Positivo']\n",
    "values = [Negative, Positive]\n",
    "\n",
    "# Definir as cores das barras\n",
    "colors = ['red', 'green']\n",
    "\n",
    "# Criar o gráfico de barras usando Seaborn\n",
    "sns.barplot(x=labels, y=values, palette=colors)\n",
    "\n",
    "# Adicionar rótulos às barras\n",
    "for index, value in enumerate(values):\n",
    "    plt.text(index, value, str(value), ha='center', va='bottom')\n",
    "\n",
    "# Adicionar rótulos dos eixos e título\n",
    "plt.ylabel('Quantidade de tweets')\n",
    "plt.title('Proporção das classes')\n",
    "\n",
    "# Exibir o gráfico\n",
    "plt.show()\n",
    "\n",
    "rate = Positive/Negative\n",
    "print(rate)"
   ]
  },
  {
   "cell_type": "markdown",
   "id": "07438a7a",
   "metadata": {
    "id": "JJJoyV_G7Qjt",
    "papermill": {
     "duration": 0.007375,
     "end_time": "2024-04-16T03:17:19.985220",
     "exception": false,
     "start_time": "2024-04-16T03:17:19.977845",
     "status": "completed"
    },
    "tags": []
   },
   "source": [
    "## Pre-processamento"
   ]
  },
  {
   "cell_type": "markdown",
   "id": "52c53f75",
   "metadata": {
    "id": "VlHYAly4F1WJ",
    "papermill": {
     "duration": 0.007582,
     "end_time": "2024-04-16T03:17:20.001450",
     "exception": false,
     "start_time": "2024-04-16T03:17:19.993868",
     "status": "completed"
    },
    "tags": []
   },
   "source": [
    "### Limpeza do corpus de treinamento"
   ]
  },
  {
   "cell_type": "code",
   "execution_count": 7,
   "id": "40b3932a",
   "metadata": {
    "execution": {
     "iopub.execute_input": "2024-04-16T03:17:20.019096Z",
     "iopub.status.busy": "2024-04-16T03:17:20.018678Z",
     "iopub.status.idle": "2024-04-16T03:17:20.024578Z",
     "shell.execute_reply": "2024-04-16T03:17:20.023864Z"
    },
    "id": "X_InNJrf_ZhI",
    "papermill": {
     "duration": 0.017446,
     "end_time": "2024-04-16T03:17:20.026547",
     "exception": false,
     "start_time": "2024-04-16T03:17:20.009101",
     "status": "completed"
    },
    "tags": []
   },
   "outputs": [],
   "source": [
    "'''texto em minúsculas, remova o texto entre colchetes, remova links, remova pontuações e remova palavras que contenham números.'''\n",
    "\n",
    "def clean_text(text):\n",
    "    text = str(text).lower()\n",
    "    text = re.sub('\\[.*?\\]', '', text)\n",
    "    text = re.sub('https?://\\S+|www\\.\\S+', '', text)\n",
    "    text = re.sub('<.*?>+', '', text)\n",
    "    text = re.sub('[%s]' % re.escape(string.punctuation), '', text)\n",
    "    text = re.sub('\\n', '', text)\n",
    "    text = re.sub('\\w*\\d\\w*', '', text)\n",
    "    return text"
   ]
  },
  {
   "cell_type": "code",
   "execution_count": 8,
   "id": "73c5ab4b",
   "metadata": {
    "execution": {
     "iopub.execute_input": "2024-04-16T03:17:20.043992Z",
     "iopub.status.busy": "2024-04-16T03:17:20.043351Z",
     "iopub.status.idle": "2024-04-16T03:17:21.477006Z",
     "shell.execute_reply": "2024-04-16T03:17:21.476214Z"
    },
    "id": "0J_exhvMBX6M",
    "outputId": "9152f52a-6118-4b07-c78e-1f35188e550d",
    "papermill": {
     "duration": 1.444697,
     "end_time": "2024-04-16T03:17:21.478974",
     "exception": false,
     "start_time": "2024-04-16T03:17:20.034277",
     "status": "completed"
    },
    "tags": []
   },
   "outputs": [
    {
     "data": {
      "text/html": [
       "<div>\n",
       "<style scoped>\n",
       "    .dataframe tbody tr th:only-of-type {\n",
       "        vertical-align: middle;\n",
       "    }\n",
       "\n",
       "    .dataframe tbody tr th {\n",
       "        vertical-align: top;\n",
       "    }\n",
       "\n",
       "    .dataframe thead th {\n",
       "        text-align: right;\n",
       "    }\n",
       "</style>\n",
       "<table border=\"1\" class=\"dataframe\">\n",
       "  <thead>\n",
       "    <tr style=\"text-align: right;\">\n",
       "      <th></th>\n",
       "      <th>text</th>\n",
       "      <th>target</th>\n",
       "      <th>text_clean</th>\n",
       "    </tr>\n",
       "    <tr>\n",
       "      <th>ID</th>\n",
       "      <th></th>\n",
       "      <th></th>\n",
       "      <th></th>\n",
       "    </tr>\n",
       "  </thead>\n",
       "  <tbody>\n",
       "    <tr>\n",
       "      <th>1439813</th>\n",
       "      <td>@sweet19 thanksies but ur so lucky u are in hi...</td>\n",
       "      <td>4</td>\n",
       "      <td>thanksies but ur so lucky u are in high schoo...</td>\n",
       "    </tr>\n",
       "    <tr>\n",
       "      <th>621715</th>\n",
       "      <td>at the park playing tennis. i suck.</td>\n",
       "      <td>0</td>\n",
       "      <td>at the park playing tennis i suck</td>\n",
       "    </tr>\n",
       "    <tr>\n",
       "      <th>1188021</th>\n",
       "      <td>@tontokaru happy belated bday babe!</td>\n",
       "      <td>4</td>\n",
       "      <td>tontokaru happy belated bday babe</td>\n",
       "    </tr>\n",
       "    <tr>\n",
       "      <th>300651</th>\n",
       "      <td>@DxBLOCK  DM me your number again pls</td>\n",
       "      <td>0</td>\n",
       "      <td>dxblock  dm me your number again pls</td>\n",
       "    </tr>\n",
       "    <tr>\n",
       "      <th>757974</th>\n",
       "      <td>Rest in Peace Ed McMahon</td>\n",
       "      <td>0</td>\n",
       "      <td>rest in peace ed mcmahon</td>\n",
       "    </tr>\n",
       "  </tbody>\n",
       "</table>\n",
       "</div>"
      ],
      "text/plain": [
       "                                                      text  target  \\\n",
       "ID                                                                   \n",
       "1439813  @sweet19 thanksies but ur so lucky u are in hi...       4   \n",
       "621715                at the park playing tennis. i suck.        0   \n",
       "1188021               @tontokaru happy belated bday babe!        4   \n",
       "300651              @DxBLOCK  DM me your number again pls        0   \n",
       "757974                           Rest in Peace Ed McMahon        0   \n",
       "\n",
       "                                                text_clean  \n",
       "ID                                                          \n",
       "1439813   thanksies but ur so lucky u are in high schoo...  \n",
       "621715                  at the park playing tennis i suck   \n",
       "1188021                 tontokaru happy belated bday babe   \n",
       "300651               dxblock  dm me your number again pls   \n",
       "757974                           rest in peace ed mcmahon   "
      ]
     },
     "execution_count": 8,
     "metadata": {},
     "output_type": "execute_result"
    }
   ],
   "source": [
    "train['text_clean'] = train['text'].apply(clean_text)\n",
    "train.head()"
   ]
  },
  {
   "cell_type": "markdown",
   "id": "3957766f",
   "metadata": {
    "id": "sxMwjJv4_aof",
    "papermill": {
     "duration": 0.007522,
     "end_time": "2024-04-16T03:17:21.494716",
     "exception": false,
     "start_time": "2024-04-16T03:17:21.487194",
     "status": "completed"
    },
    "tags": []
   },
   "source": [
    "# Treinamento"
   ]
  },
  {
   "cell_type": "code",
   "execution_count": 9,
   "id": "bbf77fb8",
   "metadata": {
    "execution": {
     "iopub.execute_input": "2024-04-16T03:17:21.511806Z",
     "iopub.status.busy": "2024-04-16T03:17:21.511036Z",
     "iopub.status.idle": "2024-04-16T03:17:21.516070Z",
     "shell.execute_reply": "2024-04-16T03:17:21.515250Z"
    },
    "id": "DbrAgerk7Qjt",
    "papermill": {
     "duration": 0.015835,
     "end_time": "2024-04-16T03:17:21.518103",
     "exception": false,
     "start_time": "2024-04-16T03:17:21.502268",
     "status": "completed"
    },
    "tags": []
   },
   "outputs": [],
   "source": [
    "X_train, y_train = train['text_clean'], train['target']"
   ]
  },
  {
   "cell_type": "code",
   "execution_count": 10,
   "id": "8cf6df7a",
   "metadata": {
    "execution": {
     "iopub.execute_input": "2024-04-16T03:17:21.536551Z",
     "iopub.status.busy": "2024-04-16T03:17:21.535739Z",
     "iopub.status.idle": "2024-04-16T03:17:22.672201Z",
     "shell.execute_reply": "2024-04-16T03:17:22.671070Z"
    },
    "id": "3us4XiMa7Qj1",
    "papermill": {
     "duration": 1.148856,
     "end_time": "2024-04-16T03:17:22.675015",
     "exception": false,
     "start_time": "2024-04-16T03:17:21.526159",
     "status": "completed"
    },
    "tags": []
   },
   "outputs": [],
   "source": [
    "from sklearn.feature_extraction.text import CountVectorizer\n",
    "vectorizer = CountVectorizer()\n",
    "X_vectorized = vectorizer.fit_transform(X_train)"
   ]
  },
  {
   "cell_type": "code",
   "execution_count": 11,
   "id": "38958d5b",
   "metadata": {
    "execution": {
     "iopub.execute_input": "2024-04-16T03:17:22.693236Z",
     "iopub.status.busy": "2024-04-16T03:17:22.692815Z",
     "iopub.status.idle": "2024-04-16T03:17:22.699254Z",
     "shell.execute_reply": "2024-04-16T03:17:22.698258Z"
    },
    "id": "7jXHfU-z7Qj5",
    "papermill": {
     "duration": 0.018515,
     "end_time": "2024-04-16T03:17:22.701764",
     "exception": false,
     "start_time": "2024-04-16T03:17:22.683249",
     "status": "completed"
    },
    "tags": []
   },
   "outputs": [
    {
     "data": {
      "text/plain": [
       "<70000x74427 sparse matrix of type '<class 'numpy.int64'>'\n",
       "\twith 796400 stored elements in Compressed Sparse Row format>"
      ]
     },
     "execution_count": 11,
     "metadata": {},
     "output_type": "execute_result"
    }
   ],
   "source": [
    "X_vectorized"
   ]
  },
  {
   "cell_type": "code",
   "execution_count": 12,
   "id": "59cac6da",
   "metadata": {
    "execution": {
     "iopub.execute_input": "2024-04-16T03:17:22.719547Z",
     "iopub.status.busy": "2024-04-16T03:17:22.719153Z",
     "iopub.status.idle": "2024-04-16T03:17:22.726264Z",
     "shell.execute_reply": "2024-04-16T03:17:22.725517Z"
    },
    "id": "Vz-rqFip7Qj7",
    "papermill": {
     "duration": 0.018322,
     "end_time": "2024-04-16T03:17:22.728208",
     "exception": false,
     "start_time": "2024-04-16T03:17:22.709886",
     "status": "completed"
    },
    "tags": []
   },
   "outputs": [],
   "source": [
    "from sklearn.naive_bayes import MultinomialNB"
   ]
  },
  {
   "cell_type": "code",
   "execution_count": 13,
   "id": "ea2a81ac",
   "metadata": {
    "execution": {
     "iopub.execute_input": "2024-04-16T03:17:22.745980Z",
     "iopub.status.busy": "2024-04-16T03:17:22.745354Z",
     "iopub.status.idle": "2024-04-16T03:17:22.781590Z",
     "shell.execute_reply": "2024-04-16T03:17:22.780541Z"
    },
    "id": "HG8CuFhw7Qj-",
    "papermill": {
     "duration": 0.047632,
     "end_time": "2024-04-16T03:17:22.783959",
     "exception": false,
     "start_time": "2024-04-16T03:17:22.736327",
     "status": "completed"
    },
    "tags": []
   },
   "outputs": [
    {
     "data": {
      "text/html": [
       "<style>#sk-container-id-1 {color: black;background-color: white;}#sk-container-id-1 pre{padding: 0;}#sk-container-id-1 div.sk-toggleable {background-color: white;}#sk-container-id-1 label.sk-toggleable__label {cursor: pointer;display: block;width: 100%;margin-bottom: 0;padding: 0.3em;box-sizing: border-box;text-align: center;}#sk-container-id-1 label.sk-toggleable__label-arrow:before {content: \"▸\";float: left;margin-right: 0.25em;color: #696969;}#sk-container-id-1 label.sk-toggleable__label-arrow:hover:before {color: black;}#sk-container-id-1 div.sk-estimator:hover label.sk-toggleable__label-arrow:before {color: black;}#sk-container-id-1 div.sk-toggleable__content {max-height: 0;max-width: 0;overflow: hidden;text-align: left;background-color: #f0f8ff;}#sk-container-id-1 div.sk-toggleable__content pre {margin: 0.2em;color: black;border-radius: 0.25em;background-color: #f0f8ff;}#sk-container-id-1 input.sk-toggleable__control:checked~div.sk-toggleable__content {max-height: 200px;max-width: 100%;overflow: auto;}#sk-container-id-1 input.sk-toggleable__control:checked~label.sk-toggleable__label-arrow:before {content: \"▾\";}#sk-container-id-1 div.sk-estimator input.sk-toggleable__control:checked~label.sk-toggleable__label {background-color: #d4ebff;}#sk-container-id-1 div.sk-label input.sk-toggleable__control:checked~label.sk-toggleable__label {background-color: #d4ebff;}#sk-container-id-1 input.sk-hidden--visually {border: 0;clip: rect(1px 1px 1px 1px);clip: rect(1px, 1px, 1px, 1px);height: 1px;margin: -1px;overflow: hidden;padding: 0;position: absolute;width: 1px;}#sk-container-id-1 div.sk-estimator {font-family: monospace;background-color: #f0f8ff;border: 1px dotted black;border-radius: 0.25em;box-sizing: border-box;margin-bottom: 0.5em;}#sk-container-id-1 div.sk-estimator:hover {background-color: #d4ebff;}#sk-container-id-1 div.sk-parallel-item::after {content: \"\";width: 100%;border-bottom: 1px solid gray;flex-grow: 1;}#sk-container-id-1 div.sk-label:hover label.sk-toggleable__label {background-color: #d4ebff;}#sk-container-id-1 div.sk-serial::before {content: \"\";position: absolute;border-left: 1px solid gray;box-sizing: border-box;top: 0;bottom: 0;left: 50%;z-index: 0;}#sk-container-id-1 div.sk-serial {display: flex;flex-direction: column;align-items: center;background-color: white;padding-right: 0.2em;padding-left: 0.2em;position: relative;}#sk-container-id-1 div.sk-item {position: relative;z-index: 1;}#sk-container-id-1 div.sk-parallel {display: flex;align-items: stretch;justify-content: center;background-color: white;position: relative;}#sk-container-id-1 div.sk-item::before, #sk-container-id-1 div.sk-parallel-item::before {content: \"\";position: absolute;border-left: 1px solid gray;box-sizing: border-box;top: 0;bottom: 0;left: 50%;z-index: -1;}#sk-container-id-1 div.sk-parallel-item {display: flex;flex-direction: column;z-index: 1;position: relative;background-color: white;}#sk-container-id-1 div.sk-parallel-item:first-child::after {align-self: flex-end;width: 50%;}#sk-container-id-1 div.sk-parallel-item:last-child::after {align-self: flex-start;width: 50%;}#sk-container-id-1 div.sk-parallel-item:only-child::after {width: 0;}#sk-container-id-1 div.sk-dashed-wrapped {border: 1px dashed gray;margin: 0 0.4em 0.5em 0.4em;box-sizing: border-box;padding-bottom: 0.4em;background-color: white;}#sk-container-id-1 div.sk-label label {font-family: monospace;font-weight: bold;display: inline-block;line-height: 1.2em;}#sk-container-id-1 div.sk-label-container {text-align: center;}#sk-container-id-1 div.sk-container {/* jupyter's `normalize.less` sets `[hidden] { display: none; }` but bootstrap.min.css set `[hidden] { display: none !important; }` so we also need the `!important` here to be able to override the default hidden behavior on the sphinx rendered scikit-learn.org. See: https://github.com/scikit-learn/scikit-learn/issues/21755 */display: inline-block !important;position: relative;}#sk-container-id-1 div.sk-text-repr-fallback {display: none;}</style><div id=\"sk-container-id-1\" class=\"sk-top-container\"><div class=\"sk-text-repr-fallback\"><pre>MultinomialNB()</pre><b>In a Jupyter environment, please rerun this cell to show the HTML representation or trust the notebook. <br />On GitHub, the HTML representation is unable to render, please try loading this page with nbviewer.org.</b></div><div class=\"sk-container\" hidden><div class=\"sk-item\"><div class=\"sk-estimator sk-toggleable\"><input class=\"sk-toggleable__control sk-hidden--visually\" id=\"sk-estimator-id-1\" type=\"checkbox\" checked><label for=\"sk-estimator-id-1\" class=\"sk-toggleable__label sk-toggleable__label-arrow\">MultinomialNB</label><div class=\"sk-toggleable__content\"><pre>MultinomialNB()</pre></div></div></div></div></div>"
      ],
      "text/plain": [
       "MultinomialNB()"
      ]
     },
     "execution_count": 13,
     "metadata": {},
     "output_type": "execute_result"
    }
   ],
   "source": [
    "nb_model = MultinomialNB()\n",
    "nb_model.fit(X_vectorized, y_train)"
   ]
  },
  {
   "cell_type": "markdown",
   "id": "185d9d84",
   "metadata": {
    "papermill": {
     "duration": 0.008208,
     "end_time": "2024-04-16T03:17:22.800603",
     "exception": false,
     "start_time": "2024-04-16T03:17:22.792395",
     "status": "completed"
    },
    "tags": []
   },
   "source": [
    "# Carga do dataset de Testes"
   ]
  },
  {
   "cell_type": "code",
   "execution_count": 14,
   "id": "d86ac9e7",
   "metadata": {
    "execution": {
     "iopub.execute_input": "2024-04-16T03:17:22.818971Z",
     "iopub.status.busy": "2024-04-16T03:17:22.818583Z",
     "iopub.status.idle": "2024-04-16T03:17:22.900607Z",
     "shell.execute_reply": "2024-04-16T03:17:22.899332Z"
    },
    "id": "b6f1vFOa7Qj_",
    "papermill": {
     "duration": 0.094313,
     "end_time": "2024-04-16T03:17:22.903226",
     "exception": false,
     "start_time": "2024-04-16T03:17:22.808913",
     "status": "completed"
    },
    "tags": []
   },
   "outputs": [
    {
     "name": "stdout",
     "output_type": "stream",
     "text": [
      "                                                      text\n",
      "ID                                                        \n",
      "1432466  Advantage to being single, when yo're &quot;in...\n",
      "986192   @twodesign :: Did you knock out the electricit...\n",
      "485147   @PurplePyroPixie And within minutes of my prev...\n",
      "1265743  @AshleyLobo you should have dropped off your c...\n",
      "346809   UGH! I am sick and I have so much to do, inclu...\n"
     ]
    }
   ],
   "source": [
    "X_test = pd.read_csv('/kaggle/input/enap-anlise-de-sentimentos/test.csv', index_col=0)\n",
    "\n",
    "# X_test = X_test['text']\n",
    "# Visualizar o dataframe\n",
    "print(X_test.head())"
   ]
  },
  {
   "cell_type": "code",
   "execution_count": 15,
   "id": "f518391b",
   "metadata": {
    "execution": {
     "iopub.execute_input": "2024-04-16T03:17:22.922532Z",
     "iopub.status.busy": "2024-04-16T03:17:22.922106Z",
     "iopub.status.idle": "2024-04-16T03:17:23.539565Z",
     "shell.execute_reply": "2024-04-16T03:17:23.538558Z"
    },
    "papermill": {
     "duration": 0.630512,
     "end_time": "2024-04-16T03:17:23.542559",
     "exception": false,
     "start_time": "2024-04-16T03:17:22.912047",
     "status": "completed"
    },
    "tags": []
   },
   "outputs": [
    {
     "data": {
      "text/html": [
       "<div>\n",
       "<style scoped>\n",
       "    .dataframe tbody tr th:only-of-type {\n",
       "        vertical-align: middle;\n",
       "    }\n",
       "\n",
       "    .dataframe tbody tr th {\n",
       "        vertical-align: top;\n",
       "    }\n",
       "\n",
       "    .dataframe thead th {\n",
       "        text-align: right;\n",
       "    }\n",
       "</style>\n",
       "<table border=\"1\" class=\"dataframe\">\n",
       "  <thead>\n",
       "    <tr style=\"text-align: right;\">\n",
       "      <th></th>\n",
       "      <th>text</th>\n",
       "    </tr>\n",
       "    <tr>\n",
       "      <th>ID</th>\n",
       "      <th></th>\n",
       "    </tr>\n",
       "  </thead>\n",
       "  <tbody>\n",
       "    <tr>\n",
       "      <th>1432466</th>\n",
       "      <td>advantage to being single when yore quotin a m...</td>\n",
       "    </tr>\n",
       "    <tr>\n",
       "      <th>986192</th>\n",
       "      <td>twodesign  did you knock out the electricity w...</td>\n",
       "    </tr>\n",
       "    <tr>\n",
       "      <th>485147</th>\n",
       "      <td>purplepyropixie and within minutes of my previ...</td>\n",
       "    </tr>\n",
       "    <tr>\n",
       "      <th>1265743</th>\n",
       "      <td>ashleylobo you should have dropped off your co...</td>\n",
       "    </tr>\n",
       "    <tr>\n",
       "      <th>346809</th>\n",
       "      <td>ugh i am sick and i have so much to do includi...</td>\n",
       "    </tr>\n",
       "  </tbody>\n",
       "</table>\n",
       "</div>"
      ],
      "text/plain": [
       "                                                      text\n",
       "ID                                                        \n",
       "1432466  advantage to being single when yore quotin a m...\n",
       "986192   twodesign  did you knock out the electricity w...\n",
       "485147   purplepyropixie and within minutes of my previ...\n",
       "1265743  ashleylobo you should have dropped off your co...\n",
       "346809   ugh i am sick and i have so much to do includi..."
      ]
     },
     "execution_count": 15,
     "metadata": {},
     "output_type": "execute_result"
    }
   ],
   "source": [
    "X_test['text'] = X_test['text'].apply(clean_text)\n",
    "\n",
    "X_test.head()"
   ]
  },
  {
   "cell_type": "code",
   "execution_count": 16,
   "id": "fa7fd22d",
   "metadata": {
    "execution": {
     "iopub.execute_input": "2024-04-16T03:17:23.561673Z",
     "iopub.status.busy": "2024-04-16T03:17:23.561290Z",
     "iopub.status.idle": "2024-04-16T03:17:23.565725Z",
     "shell.execute_reply": "2024-04-16T03:17:23.564802Z"
    },
    "id": "TxDhWWIh7QkB",
    "papermill": {
     "duration": 0.017136,
     "end_time": "2024-04-16T03:17:23.568250",
     "exception": false,
     "start_time": "2024-04-16T03:17:23.551114",
     "status": "completed"
    },
    "tags": []
   },
   "outputs": [],
   "source": [
    "X_vectorized = vectorizer.transform(X_test)"
   ]
  },
  {
   "cell_type": "code",
   "execution_count": 17,
   "id": "98004048",
   "metadata": {
    "execution": {
     "iopub.execute_input": "2024-04-16T03:17:23.586747Z",
     "iopub.status.busy": "2024-04-16T03:17:23.585946Z",
     "iopub.status.idle": "2024-04-16T03:17:23.591313Z",
     "shell.execute_reply": "2024-04-16T03:17:23.590659Z"
    },
    "id": "1JT1KI9N7QkC",
    "papermill": {
     "duration": 0.016436,
     "end_time": "2024-04-16T03:17:23.593088",
     "exception": false,
     "start_time": "2024-04-16T03:17:23.576652",
     "status": "completed"
    },
    "tags": []
   },
   "outputs": [
    {
     "data": {
      "text/plain": [
       "<1x74427 sparse matrix of type '<class 'numpy.int64'>'\n",
       "\twith 1 stored elements in Compressed Sparse Row format>"
      ]
     },
     "execution_count": 17,
     "metadata": {},
     "output_type": "execute_result"
    }
   ],
   "source": [
    "X_vectorized"
   ]
  },
  {
   "cell_type": "code",
   "execution_count": 18,
   "id": "59f4fc81",
   "metadata": {
    "execution": {
     "iopub.execute_input": "2024-04-16T03:17:23.613131Z",
     "iopub.status.busy": "2024-04-16T03:17:23.612425Z",
     "iopub.status.idle": "2024-04-16T03:17:23.619463Z",
     "shell.execute_reply": "2024-04-16T03:17:23.618572Z"
    },
    "id": "yqwwvoQE7QkD",
    "papermill": {
     "duration": 0.020017,
     "end_time": "2024-04-16T03:17:23.621926",
     "exception": false,
     "start_time": "2024-04-16T03:17:23.601909",
     "status": "completed"
    },
    "tags": []
   },
   "outputs": [],
   "source": [
    "y_pred = nb_model.predict(X_vectorized)"
   ]
  },
  {
   "cell_type": "code",
   "execution_count": 19,
   "id": "6c409a20",
   "metadata": {
    "execution": {
     "iopub.execute_input": "2024-04-16T03:17:23.642247Z",
     "iopub.status.busy": "2024-04-16T03:17:23.641412Z",
     "iopub.status.idle": "2024-04-16T03:17:23.648263Z",
     "shell.execute_reply": "2024-04-16T03:17:23.647187Z"
    },
    "id": "SBWiKDAp7QkE",
    "papermill": {
     "duration": 0.019614,
     "end_time": "2024-04-16T03:17:23.650624",
     "exception": false,
     "start_time": "2024-04-16T03:17:23.631010",
     "status": "completed"
    },
    "tags": []
   },
   "outputs": [
    {
     "data": {
      "text/plain": [
       "array([0])"
      ]
     },
     "execution_count": 19,
     "metadata": {},
     "output_type": "execute_result"
    }
   ],
   "source": [
    "y_pred"
   ]
  },
  {
   "cell_type": "code",
   "execution_count": 20,
   "id": "6bb6a095",
   "metadata": {
    "execution": {
     "iopub.execute_input": "2024-04-16T03:17:23.670820Z",
     "iopub.status.busy": "2024-04-16T03:17:23.670107Z",
     "iopub.status.idle": "2024-04-16T03:17:23.678638Z",
     "shell.execute_reply": "2024-04-16T03:17:23.677548Z"
    },
    "id": "ZIWMFtFQ7QkG",
    "papermill": {
     "duration": 0.021546,
     "end_time": "2024-04-16T03:17:23.681162",
     "exception": false,
     "start_time": "2024-04-16T03:17:23.659616",
     "status": "completed"
    },
    "tags": []
   },
   "outputs": [
    {
     "name": "stdout",
     "output_type": "stream",
     "text": [
      "         target\n",
      "ID             \n",
      "1432466       0\n",
      "986192        0\n",
      "485147        0\n",
      "1265743       0\n",
      "346809        0\n",
      "...         ...\n",
      "830710        0\n",
      "27247         0\n",
      "104191        0\n",
      "185927        0\n",
      "1576861       0\n",
      "\n",
      "[30000 rows x 1 columns]\n"
     ]
    }
   ],
   "source": [
    "pred = pd.DataFrame({'target': y_pred}, index=X_test.index)\n",
    "\n",
    "print(pred)"
   ]
  },
  {
   "cell_type": "code",
   "execution_count": 21,
   "id": "cc31ab8d",
   "metadata": {
    "execution": {
     "iopub.execute_input": "2024-04-16T03:17:23.701594Z",
     "iopub.status.busy": "2024-04-16T03:17:23.700522Z",
     "iopub.status.idle": "2024-04-16T03:17:23.731651Z",
     "shell.execute_reply": "2024-04-16T03:17:23.730688Z"
    },
    "id": "wYqOpg7_7QkI",
    "papermill": {
     "duration": 0.044077,
     "end_time": "2024-04-16T03:17:23.734349",
     "exception": false,
     "start_time": "2024-04-16T03:17:23.690272",
     "status": "completed"
    },
    "tags": []
   },
   "outputs": [],
   "source": [
    "pred.to_csv('/kaggle/working/submission.csv')"
   ]
  }
 ],
 "metadata": {
  "colab": {
   "name": "exerc_01",
   "provenance": []
  },
  "kaggle": {
   "accelerator": "none",
   "dataSources": [
    {
     "databundleVersionId": 8101446,
     "sourceId": 73427,
     "sourceType": "competition"
    }
   ],
   "dockerImageVersionId": 30684,
   "isGpuEnabled": false,
   "isInternetEnabled": true,
   "language": "python",
   "sourceType": "notebook"
  },
  "kernelspec": {
   "display_name": "Python 3",
   "language": "python",
   "name": "python3"
  },
  "language_info": {
   "codemirror_mode": {
    "name": "ipython",
    "version": 3
   },
   "file_extension": ".py",
   "mimetype": "text/x-python",
   "name": "python",
   "nbconvert_exporter": "python",
   "pygments_lexer": "ipython3",
   "version": "3.10.13"
  },
  "papermill": {
   "default_parameters": {},
   "duration": 16.551844,
   "end_time": "2024-04-16T03:17:25.067145",
   "environment_variables": {},
   "exception": null,
   "input_path": "__notebook__.ipynb",
   "output_path": "__notebook__.ipynb",
   "parameters": {},
   "start_time": "2024-04-16T03:17:08.515301",
   "version": "2.5.0"
  }
 },
 "nbformat": 4,
 "nbformat_minor": 5
}

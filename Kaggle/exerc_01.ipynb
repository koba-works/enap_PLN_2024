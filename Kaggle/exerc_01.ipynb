{
 "cells": [
  {
   "cell_type": "markdown",
   "id": "d165e98c",
   "metadata": {
    "id": "civjokOj7QjO",
    "papermill": {
     "duration": 0.00978,
     "end_time": "2024-04-16T00:12:22.394616",
     "exception": false,
     "start_time": "2024-04-16T00:12:22.384836",
     "status": "completed"
    },
    "tags": []
   },
   "source": [
    "# Exercício de Classificação de Análise de Sentimentos"
   ]
  },
  {
   "cell_type": "markdown",
   "id": "36b21e87",
   "metadata": {
    "id": "cXJ_o_NM7QjR",
    "papermill": {
     "duration": 0.008875,
     "end_time": "2024-04-16T00:12:22.412785",
     "exception": false,
     "start_time": "2024-04-16T00:12:22.403910",
     "status": "completed"
    },
    "tags": []
   },
   "source": [
    "O objetivo do exercício é explorar técnicas de pré-processamento de texto, como remoção de stopwords, tokenização e stemming, além de aplicar técnicas de vetorização, como Bag of Words (BoW) e Term Frequency-Inverse Document Frequency (TF-IDF) para classificar a polaridade de tweets em positivas ou negativas."
   ]
  },
  {
   "cell_type": "markdown",
   "id": "0e289c1b",
   "metadata": {
    "id": "nNMDueIY7QjT",
    "papermill": {
     "duration": 0.009243,
     "end_time": "2024-04-16T00:12:22.431020",
     "exception": false,
     "start_time": "2024-04-16T00:12:22.421777",
     "status": "completed"
    },
    "tags": []
   },
   "source": [
    "## Importar bibliotecas, carregar datasets, etc."
   ]
  },
  {
   "cell_type": "code",
   "execution_count": 1,
   "id": "7094081f",
   "metadata": {
    "execution": {
     "iopub.execute_input": "2024-04-16T00:12:22.452497Z",
     "iopub.status.busy": "2024-04-16T00:12:22.451752Z",
     "iopub.status.idle": "2024-04-16T00:12:31.742720Z",
     "shell.execute_reply": "2024-04-16T00:12:31.741544Z"
    },
    "id": "2T0MXrZQ7QjV",
    "papermill": {
     "duration": 9.304945,
     "end_time": "2024-04-16T00:12:31.745510",
     "exception": false,
     "start_time": "2024-04-16T00:12:22.440565",
     "status": "completed"
    },
    "tags": []
   },
   "outputs": [],
   "source": [
    "# importar bibliotecas basicas:\n",
    "import random\n",
    "import pandas as pd\n",
    "import matplotlib as plot\n",
    "import seaborn as sns\n",
    "\n",
    "# bibliotecas complementares\n",
    "import codecs\n",
    "import nltk\n",
    "import re\n",
    "import spacy\n",
    "import string\n",
    "import unicodedata"
   ]
  },
  {
   "cell_type": "code",
   "execution_count": 2,
   "id": "e5010b8b",
   "metadata": {
    "execution": {
     "iopub.execute_input": "2024-04-16T00:12:31.766002Z",
     "iopub.status.busy": "2024-04-16T00:12:31.765398Z",
     "iopub.status.idle": "2024-04-16T00:12:31.770434Z",
     "shell.execute_reply": "2024-04-16T00:12:31.769328Z"
    },
    "id": "OIMvrbpB7QjX",
    "papermill": {
     "duration": 0.017967,
     "end_time": "2024-04-16T00:12:31.772719",
     "exception": false,
     "start_time": "2024-04-16T00:12:31.754752",
     "status": "completed"
    },
    "tags": []
   },
   "outputs": [],
   "source": [
    "# aleatoriedade controlada\n",
    "random.seed(42)"
   ]
  },
  {
   "cell_type": "code",
   "execution_count": 3,
   "id": "c0eb5277",
   "metadata": {
    "execution": {
     "iopub.execute_input": "2024-04-16T00:12:31.793219Z",
     "iopub.status.busy": "2024-04-16T00:12:31.792412Z",
     "iopub.status.idle": "2024-04-16T00:12:32.034957Z",
     "shell.execute_reply": "2024-04-16T00:12:32.033707Z"
    },
    "id": "fFIzaQR97Qja",
    "papermill": {
     "duration": 0.255774,
     "end_time": "2024-04-16T00:12:32.037661",
     "exception": false,
     "start_time": "2024-04-16T00:12:31.781887",
     "status": "completed"
    },
    "tags": []
   },
   "outputs": [],
   "source": [
    "# carregar dataset de treino\n",
    "train = pd.read_csv('/kaggle/input/enap-anlise-de-sentimentos/train.csv', index_col=0)"
   ]
  },
  {
   "cell_type": "markdown",
   "id": "1f756a19",
   "metadata": {
    "id": "KjuNxj2A7Qjd",
    "papermill": {
     "duration": 0.010041,
     "end_time": "2024-04-16T00:12:32.056998",
     "exception": false,
     "start_time": "2024-04-16T00:12:32.046957",
     "status": "completed"
    },
    "tags": []
   },
   "source": [
    "## Pré analise"
   ]
  },
  {
   "cell_type": "code",
   "execution_count": 4,
   "id": "563ebf2f",
   "metadata": {
    "execution": {
     "iopub.execute_input": "2024-04-16T00:12:32.077118Z",
     "iopub.status.busy": "2024-04-16T00:12:32.076701Z",
     "iopub.status.idle": "2024-04-16T00:12:32.089890Z",
     "shell.execute_reply": "2024-04-16T00:12:32.087835Z"
    },
    "id": "bNSI2uxe7Qjg",
    "outputId": "13b5af1f-6206-4d52-f88d-c1750497107f",
    "papermill": {
     "duration": 0.026047,
     "end_time": "2024-04-16T00:12:32.092274",
     "exception": false,
     "start_time": "2024-04-16T00:12:32.066227",
     "status": "completed"
    },
    "tags": []
   },
   "outputs": [
    {
     "name": "stdout",
     "output_type": "stream",
     "text": [
      "                                                      text  target\n",
      "ID                                                                \n",
      "1439813  @sweet19 thanksies but ur so lucky u are in hi...       4\n",
      "621715                at the park playing tennis. i suck.        0\n",
      "1188021               @tontokaru happy belated bday babe!        4\n",
      "300651              @DxBLOCK  DM me your number again pls        0\n",
      "757974                           Rest in Peace Ed McMahon        0\n",
      "...                                                    ...     ...\n",
      "1312263  @conc3p  &quot;I want him to watch&quot; + &qu...       4\n",
      "143846                       @gershgorin that's awful!!!!        0\n",
      "1253750  @HipMamaB LOL - I remember that episode!!  (wh...       4\n",
      "134415                          @cooliesupreme I am sorry        0\n",
      "1218280     @sesam not to worry, I don't use lifts either        4\n",
      "\n",
      "[70000 rows x 2 columns]\n"
     ]
    }
   ],
   "source": [
    "# Pré avaliação do dataset que está sendo carregado\n",
    "print(train)"
   ]
  },
  {
   "cell_type": "markdown",
   "id": "7bf5c015",
   "metadata": {
    "id": "KjWawf1M7Qjn",
    "papermill": {
     "duration": 0.009826,
     "end_time": "2024-04-16T00:12:32.111705",
     "exception": false,
     "start_time": "2024-04-16T00:12:32.101879",
     "status": "completed"
    },
    "tags": []
   },
   "source": [
    "Dá pra notar que tem muita 💩 no texto...\n",
    "exemplos:\n",
    "* uso de simbolos: @ ! ; + &\n",
    "* girias: LOL DM bday ur\n",
    "* erro de grafias: thanksies\n"
   ]
  },
  {
   "cell_type": "code",
   "execution_count": 5,
   "id": "c35f0134",
   "metadata": {
    "execution": {
     "iopub.execute_input": "2024-04-16T00:12:32.132607Z",
     "iopub.status.busy": "2024-04-16T00:12:32.132162Z",
     "iopub.status.idle": "2024-04-16T00:12:32.159789Z",
     "shell.execute_reply": "2024-04-16T00:12:32.158669Z"
    },
    "id": "aj9kL8Q77Qjq",
    "outputId": "05b64154-ebe9-4031-bb45-cd57c4511eaf",
    "papermill": {
     "duration": 0.04094,
     "end_time": "2024-04-16T00:12:32.162116",
     "exception": false,
     "start_time": "2024-04-16T00:12:32.121176",
     "status": "completed"
    },
    "tags": []
   },
   "outputs": [
    {
     "data": {
      "text/html": [
       "<div>\n",
       "<style scoped>\n",
       "    .dataframe tbody tr th:only-of-type {\n",
       "        vertical-align: middle;\n",
       "    }\n",
       "\n",
       "    .dataframe tbody tr th {\n",
       "        vertical-align: top;\n",
       "    }\n",
       "\n",
       "    .dataframe thead th {\n",
       "        text-align: right;\n",
       "    }\n",
       "</style>\n",
       "<table border=\"1\" class=\"dataframe\">\n",
       "  <thead>\n",
       "    <tr style=\"text-align: right;\">\n",
       "      <th></th>\n",
       "      <th>text</th>\n",
       "      <th>target</th>\n",
       "    </tr>\n",
       "    <tr>\n",
       "      <th>ID</th>\n",
       "      <th></th>\n",
       "      <th></th>\n",
       "    </tr>\n",
       "  </thead>\n",
       "  <tbody>\n",
       "    <tr>\n",
       "      <th>1439813</th>\n",
       "      <td>@sweet19 thanksies but ur so lucky u are in hi...</td>\n",
       "      <td>4</td>\n",
       "    </tr>\n",
       "    <tr>\n",
       "      <th>621715</th>\n",
       "      <td>at the park playing tennis. i suck.</td>\n",
       "      <td>0</td>\n",
       "    </tr>\n",
       "    <tr>\n",
       "      <th>1188021</th>\n",
       "      <td>@tontokaru happy belated bday babe!</td>\n",
       "      <td>4</td>\n",
       "    </tr>\n",
       "    <tr>\n",
       "      <th>300651</th>\n",
       "      <td>@DxBLOCK  DM me your number again pls</td>\n",
       "      <td>0</td>\n",
       "    </tr>\n",
       "    <tr>\n",
       "      <th>757974</th>\n",
       "      <td>Rest in Peace Ed McMahon</td>\n",
       "      <td>0</td>\n",
       "    </tr>\n",
       "  </tbody>\n",
       "</table>\n",
       "</div>"
      ],
      "text/plain": [
       "                                                      text  target\n",
       "ID                                                                \n",
       "1439813  @sweet19 thanksies but ur so lucky u are in hi...       4\n",
       "621715                at the park playing tennis. i suck.        0\n",
       "1188021               @tontokaru happy belated bday babe!        4\n",
       "300651              @DxBLOCK  DM me your number again pls        0\n",
       "757974                           Rest in Peace Ed McMahon        0"
      ]
     },
     "execution_count": 5,
     "metadata": {},
     "output_type": "execute_result"
    }
   ],
   "source": [
    "train.dropna()\n",
    "train.columns = ['text','target']\n",
    "train.head()"
   ]
  },
  {
   "cell_type": "code",
   "execution_count": 6,
   "id": "8711126e",
   "metadata": {
    "execution": {
     "iopub.execute_input": "2024-04-16T00:12:32.184298Z",
     "iopub.status.busy": "2024-04-16T00:12:32.183575Z",
     "iopub.status.idle": "2024-04-16T00:12:32.608729Z",
     "shell.execute_reply": "2024-04-16T00:12:32.607914Z"
    },
    "id": "dgtDwSxSDtwe",
    "outputId": "fe90bfdc-8332-429b-da9c-be635b19165a",
    "papermill": {
     "duration": 0.439,
     "end_time": "2024-04-16T00:12:32.610937",
     "exception": false,
     "start_time": "2024-04-16T00:12:32.171937",
     "status": "completed"
    },
    "tags": []
   },
   "outputs": [
    {
     "data": {
      "image/png": "[encoded data removed]",
      "text/plain": [
       "<Figure size 640x480 with 1 Axes>"
      ]
     },
     "metadata": {},
     "output_type": "display_data"
    }
   ],
   "source": [
    "# @title distribuição das classes alvo\n",
    "\n",
    "from matplotlib import pyplot as plt\n",
    "train['target'].plot(kind='hist', bins=20, title='target')\n",
    "plt.gca().spines[['top', 'right',]].set_visible(False)"
   ]
  },
  {
   "cell_type": "markdown",
   "id": "10fb137f",
   "metadata": {
    "id": "HHP1u5tJ7f6R",
    "papermill": {
     "duration": 0.010158,
     "end_time": "2024-04-16T00:12:32.637838",
     "exception": false,
     "start_time": "2024-04-16T00:12:32.627680",
     "status": "completed"
    },
    "tags": []
   },
   "source": [
    "### Avaliação de distribuição das classes alvo"
   ]
  },
  {
   "cell_type": "code",
   "execution_count": 7,
   "id": "fb15dd87",
   "metadata": {
    "execution": {
     "iopub.execute_input": "2024-04-16T00:12:32.660556Z",
     "iopub.status.busy": "2024-04-16T00:12:32.660116Z",
     "iopub.status.idle": "2024-04-16T00:12:32.668787Z",
     "shell.execute_reply": "2024-04-16T00:12:32.667785Z"
    },
    "id": "fQQ5DVAN7v8L",
    "outputId": "37aa4bb0-15c0-421d-83c2-6197c0a768b6",
    "papermill": {
     "duration": 0.022897,
     "end_time": "2024-04-16T00:12:32.670956",
     "exception": false,
     "start_time": "2024-04-16T00:12:32.648059",
     "status": "completed"
    },
    "tags": []
   },
   "outputs": [
    {
     "data": {
      "text/plain": [
       "array([34970, 35030])"
      ]
     },
     "execution_count": 7,
     "metadata": {},
     "output_type": "execute_result"
    }
   ],
   "source": [
    "balance_counts = train.groupby('target')['target'].agg('count').values\n",
    "balance_counts"
   ]
  },
  {
   "cell_type": "code",
   "execution_count": 8,
   "id": "25db818b",
   "metadata": {
    "execution": {
     "iopub.execute_input": "2024-04-16T00:12:32.694831Z",
     "iopub.status.busy": "2024-04-16T00:12:32.693789Z",
     "iopub.status.idle": "2024-04-16T00:12:32.914037Z",
     "shell.execute_reply": "2024-04-16T00:12:32.912923Z"
    },
    "id": "eQv2kKPH8gTC",
    "outputId": "704df709-01db-482c-e84f-677b66e9ed3a",
    "papermill": {
     "duration": 0.234485,
     "end_time": "2024-04-16T00:12:32.916326",
     "exception": false,
     "start_time": "2024-04-16T00:12:32.681841",
     "status": "completed"
    },
    "tags": []
   },
   "outputs": [
    {
     "name": "stderr",
     "output_type": "stream",
     "text": [
      "/opt/conda/lib/python3.10/site-packages/seaborn/_oldcore.py:1765: FutureWarning: unique with argument that is not not a Series, Index, ExtensionArray, or np.ndarray is deprecated and will raise in a future version.\n",
      "  order = pd.unique(vector)\n"
     ]
    },
    {
     "data": {
      "image/png": "[encoded data removed]",
      "text/plain": [
       "<Figure size 640x480 with 1 Axes>"
      ]
     },
     "metadata": {},
     "output_type": "display_data"
    }
   ],
   "source": [
    "# Analise grafica para avaliar possível desbalanceamento de classes alvo\n",
    "\n",
    "import matplotlib.pyplot as plt\n",
    "import seaborn as sns\n",
    "\n",
    "# Create a bar chart of the target counts\n",
    "sns.barplot(x=['Negative', 'Positive'], y=balance_counts)\n",
    "\n",
    "# Add labels to the bars\n",
    "for i, value in enumerate(balance_counts):\n",
    "    plt.text(i, value, str(value), ha='center', va='bottom')\n",
    "\n",
    "# Show the plot\n",
    "plt.show()"
   ]
  },
  {
   "cell_type": "markdown",
   "id": "6e51d7c2",
   "metadata": {
    "id": "JJJoyV_G7Qjt",
    "papermill": {
     "duration": 0.010818,
     "end_time": "2024-04-16T00:12:32.938016",
     "exception": false,
     "start_time": "2024-04-16T00:12:32.927198",
     "status": "completed"
    },
    "tags": []
   },
   "source": [
    "## Pre-processamento"
   ]
  },
  {
   "cell_type": "markdown",
   "id": "4e7500ad",
   "metadata": {
    "id": "VlHYAly4F1WJ",
    "papermill": {
     "duration": 0.010562,
     "end_time": "2024-04-16T00:12:32.959411",
     "exception": false,
     "start_time": "2024-04-16T00:12:32.948849",
     "status": "completed"
    },
    "tags": []
   },
   "source": [
    "### Limpeza do corpus de treinamento"
   ]
  },
  {
   "cell_type": "code",
   "execution_count": 9,
   "id": "4c6e7b48",
   "metadata": {
    "execution": {
     "iopub.execute_input": "2024-04-16T00:12:32.983351Z",
     "iopub.status.busy": "2024-04-16T00:12:32.982888Z",
     "iopub.status.idle": "2024-04-16T00:12:32.990719Z",
     "shell.execute_reply": "2024-04-16T00:12:32.989691Z"
    },
    "id": "X_InNJrf_ZhI",
    "papermill": {
     "duration": 0.022527,
     "end_time": "2024-04-16T00:12:32.992872",
     "exception": false,
     "start_time": "2024-04-16T00:12:32.970345",
     "status": "completed"
    },
    "tags": []
   },
   "outputs": [],
   "source": [
    "'''texto em minúsculas, remova o texto entre colchetes, remova links, remova pontuações e remova palavras que contenham números.'''\n",
    "\n",
    "def clean_text(text):\n",
    "    text = str(text).lower()\n",
    "    text = re.sub('\\[.*?\\]', '', text)\n",
    "    text = re.sub('https?://\\S+|www\\.\\S+', '', text)\n",
    "    text = re.sub('<.*?>+', '', text)\n",
    "    text = re.sub('[%s]' % re.escape(string.punctuation), '', text)\n",
    "    text = re.sub('\\n', '', text)\n",
    "    text = re.sub('\\w*\\d\\w*', '', text)\n",
    "    return text"
   ]
  },
  {
   "cell_type": "code",
   "execution_count": 10,
   "id": "8e6b534d",
   "metadata": {
    "execution": {
     "iopub.execute_input": "2024-04-16T00:12:33.017305Z",
     "iopub.status.busy": "2024-04-16T00:12:33.016875Z",
     "iopub.status.idle": "2024-04-16T00:12:35.472806Z",
     "shell.execute_reply": "2024-04-16T00:12:35.471336Z"
    },
    "id": "0J_exhvMBX6M",
    "outputId": "9152f52a-6118-4b07-c78e-1f35188e550d",
    "papermill": {
     "duration": 2.471436,
     "end_time": "2024-04-16T00:12:35.475456",
     "exception": false,
     "start_time": "2024-04-16T00:12:33.004020",
     "status": "completed"
    },
    "tags": []
   },
   "outputs": [
    {
     "data": {
      "text/html": [
       "<div>\n",
       "<style scoped>\n",
       "    .dataframe tbody tr th:only-of-type {\n",
       "        vertical-align: middle;\n",
       "    }\n",
       "\n",
       "    .dataframe tbody tr th {\n",
       "        vertical-align: top;\n",
       "    }\n",
       "\n",
       "    .dataframe thead th {\n",
       "        text-align: right;\n",
       "    }\n",
       "</style>\n",
       "<table border=\"1\" class=\"dataframe\">\n",
       "  <thead>\n",
       "    <tr style=\"text-align: right;\">\n",
       "      <th></th>\n",
       "      <th>text</th>\n",
       "      <th>target</th>\n",
       "      <th>text_clean</th>\n",
       "    </tr>\n",
       "    <tr>\n",
       "      <th>ID</th>\n",
       "      <th></th>\n",
       "      <th></th>\n",
       "      <th></th>\n",
       "    </tr>\n",
       "  </thead>\n",
       "  <tbody>\n",
       "    <tr>\n",
       "      <th>1439813</th>\n",
       "      <td>@sweet19 thanksies but ur so lucky u are in hi...</td>\n",
       "      <td>4</td>\n",
       "      <td>thanksies but ur so lucky u are in high schoo...</td>\n",
       "    </tr>\n",
       "    <tr>\n",
       "      <th>621715</th>\n",
       "      <td>at the park playing tennis. i suck.</td>\n",
       "      <td>0</td>\n",
       "      <td>at the park playing tennis i suck</td>\n",
       "    </tr>\n",
       "    <tr>\n",
       "      <th>1188021</th>\n",
       "      <td>@tontokaru happy belated bday babe!</td>\n",
       "      <td>4</td>\n",
       "      <td>tontokaru happy belated bday babe</td>\n",
       "    </tr>\n",
       "    <tr>\n",
       "      <th>300651</th>\n",
       "      <td>@DxBLOCK  DM me your number again pls</td>\n",
       "      <td>0</td>\n",
       "      <td>dxblock  dm me your number again pls</td>\n",
       "    </tr>\n",
       "    <tr>\n",
       "      <th>757974</th>\n",
       "      <td>Rest in Peace Ed McMahon</td>\n",
       "      <td>0</td>\n",
       "      <td>rest in peace ed mcmahon</td>\n",
       "    </tr>\n",
       "  </tbody>\n",
       "</table>\n",
       "</div>"
      ],
      "text/plain": [
       "                                                      text  target  \\\n",
       "ID                                                                   \n",
       "1439813  @sweet19 thanksies but ur so lucky u are in hi...       4   \n",
       "621715                at the park playing tennis. i suck.        0   \n",
       "1188021               @tontokaru happy belated bday babe!        4   \n",
       "300651              @DxBLOCK  DM me your number again pls        0   \n",
       "757974                           Rest in Peace Ed McMahon        0   \n",
       "\n",
       "                                                text_clean  \n",
       "ID                                                          \n",
       "1439813   thanksies but ur so lucky u are in high schoo...  \n",
       "621715                  at the park playing tennis i suck   \n",
       "1188021                 tontokaru happy belated bday babe   \n",
       "300651               dxblock  dm me your number again pls   \n",
       "757974                           rest in peace ed mcmahon   "
      ]
     },
     "execution_count": 10,
     "metadata": {},
     "output_type": "execute_result"
    }
   ],
   "source": [
    "train['text_clean'] = train['text'].apply(clean_text)\n",
    "train.head()"
   ]
  },
  {
   "cell_type": "code",
   "execution_count": null,
   "id": "0679e3e6",
   "metadata": {
    "id": "-tWojVTFBWPZ",
    "papermill": {
     "duration": 0.011297,
     "end_time": "2024-04-16T00:12:35.498343",
     "exception": false,
     "start_time": "2024-04-16T00:12:35.487046",
     "status": "completed"
    },
    "tags": []
   },
   "outputs": [],
   "source": []
  },
  {
   "cell_type": "markdown",
   "id": "57a5828f",
   "metadata": {
    "id": "sxMwjJv4_aof",
    "papermill": {
     "duration": 0.011109,
     "end_time": "2024-04-16T00:12:35.521093",
     "exception": false,
     "start_time": "2024-04-16T00:12:35.509984",
     "status": "completed"
    },
    "tags": []
   },
   "source": []
  },
  {
   "cell_type": "code",
   "execution_count": 11,
   "id": "7c0107c2",
   "metadata": {
    "execution": {
     "iopub.execute_input": "2024-04-16T00:12:35.545862Z",
     "iopub.status.busy": "2024-04-16T00:12:35.545444Z",
     "iopub.status.idle": "2024-04-16T00:12:35.550621Z",
     "shell.execute_reply": "2024-04-16T00:12:35.549542Z"
    },
    "id": "DbrAgerk7Qjt",
    "papermill": {
     "duration": 0.020325,
     "end_time": "2024-04-16T00:12:35.552842",
     "exception": false,
     "start_time": "2024-04-16T00:12:35.532517",
     "status": "completed"
    },
    "tags": []
   },
   "outputs": [],
   "source": [
    "X_train, y_train = train['text'], train['target']"
   ]
  },
  {
   "cell_type": "code",
   "execution_count": 12,
   "id": "2c31386e",
   "metadata": {
    "execution": {
     "iopub.execute_input": "2024-04-16T00:12:35.578143Z",
     "iopub.status.busy": "2024-04-16T00:12:35.577717Z",
     "iopub.status.idle": "2024-04-16T00:12:35.582808Z",
     "shell.execute_reply": "2024-04-16T00:12:35.581660Z"
    },
    "id": "5K1cjlx77Qjw",
    "papermill": {
     "duration": 0.020879,
     "end_time": "2024-04-16T00:12:35.585227",
     "exception": false,
     "start_time": "2024-04-16T00:12:35.564348",
     "status": "completed"
    },
    "tags": []
   },
   "outputs": [],
   "source": [
    "from sklearn.feature_extraction.text import CountVectorizer"
   ]
  },
  {
   "cell_type": "code",
   "execution_count": 13,
   "id": "5d5f4d42",
   "metadata": {
    "execution": {
     "iopub.execute_input": "2024-04-16T00:12:35.611024Z",
     "iopub.status.busy": "2024-04-16T00:12:35.609955Z",
     "iopub.status.idle": "2024-04-16T00:12:37.349100Z",
     "shell.execute_reply": "2024-04-16T00:12:37.347844Z"
    },
    "id": "3us4XiMa7Qj1",
    "papermill": {
     "duration": 1.755335,
     "end_time": "2024-04-16T00:12:37.352299",
     "exception": false,
     "start_time": "2024-04-16T00:12:35.596964",
     "status": "completed"
    },
    "tags": []
   },
   "outputs": [],
   "source": [
    "vectorizer = CountVectorizer()\n",
    "X_vectorized = vectorizer.fit_transform(X_train)"
   ]
  },
  {
   "cell_type": "code",
   "execution_count": 14,
   "id": "c9956c93",
   "metadata": {
    "execution": {
     "iopub.execute_input": "2024-04-16T00:12:37.379246Z",
     "iopub.status.busy": "2024-04-16T00:12:37.378411Z",
     "iopub.status.idle": "2024-04-16T00:12:37.385774Z",
     "shell.execute_reply": "2024-04-16T00:12:37.384690Z"
    },
    "id": "7jXHfU-z7Qj5",
    "papermill": {
     "duration": 0.022933,
     "end_time": "2024-04-16T00:12:37.387974",
     "exception": false,
     "start_time": "2024-04-16T00:12:37.365041",
     "status": "completed"
    },
    "tags": []
   },
   "outputs": [
    {
     "data": {
      "text/plain": [
       "<70000x75003 sparse matrix of type '<class 'numpy.int64'>'\n",
       "\twith 826696 stored elements in Compressed Sparse Row format>"
      ]
     },
     "execution_count": 14,
     "metadata": {},
     "output_type": "execute_result"
    }
   ],
   "source": [
    "X_vectorized"
   ]
  },
  {
   "cell_type": "code",
   "execution_count": 15,
   "id": "eede9b70",
   "metadata": {
    "execution": {
     "iopub.execute_input": "2024-04-16T00:12:37.413615Z",
     "iopub.status.busy": "2024-04-16T00:12:37.413163Z",
     "iopub.status.idle": "2024-04-16T00:12:37.421089Z",
     "shell.execute_reply": "2024-04-16T00:12:37.419789Z"
    },
    "id": "Vz-rqFip7Qj7",
    "papermill": {
     "duration": 0.023593,
     "end_time": "2024-04-16T00:12:37.423497",
     "exception": false,
     "start_time": "2024-04-16T00:12:37.399904",
     "status": "completed"
    },
    "tags": []
   },
   "outputs": [],
   "source": [
    "from sklearn.naive_bayes import MultinomialNB"
   ]
  },
  {
   "cell_type": "code",
   "execution_count": 16,
   "id": "ca422ba1",
   "metadata": {
    "execution": {
     "iopub.execute_input": "2024-04-16T00:12:37.449711Z",
     "iopub.status.busy": "2024-04-16T00:12:37.449266Z",
     "iopub.status.idle": "2024-04-16T00:12:37.485880Z",
     "shell.execute_reply": "2024-04-16T00:12:37.484746Z"
    },
    "id": "HG8CuFhw7Qj-",
    "papermill": {
     "duration": 0.052617,
     "end_time": "2024-04-16T00:12:37.488392",
     "exception": false,
     "start_time": "2024-04-16T00:12:37.435775",
     "status": "completed"
    },
    "tags": []
   },
   "outputs": [
    {
     "data": {
      "text/html": [
       "<style>#sk-container-id-1 {color: black;background-color: white;}#sk-container-id-1 pre{padding: 0;}#sk-container-id-1 div.sk-toggleable {background-color: white;}#sk-container-id-1 label.sk-toggleable__label {cursor: pointer;display: block;width: 100%;margin-bottom: 0;padding: 0.3em;box-sizing: border-box;text-align: center;}#sk-container-id-1 label.sk-toggleable__label-arrow:before {content: \"▸\";float: left;margin-right: 0.25em;color: #696969;}#sk-container-id-1 label.sk-toggleable__label-arrow:hover:before {color: black;}#sk-container-id-1 div.sk-estimator:hover label.sk-toggleable__label-arrow:before {color: black;}#sk-container-id-1 div.sk-toggleable__content {max-height: 0;max-width: 0;overflow: hidden;text-align: left;background-color: #f0f8ff;}#sk-container-id-1 div.sk-toggleable__content pre {margin: 0.2em;color: black;border-radius: 0.25em;background-color: #f0f8ff;}#sk-container-id-1 input.sk-toggleable__control:checked~div.sk-toggleable__content {max-height: 200px;max-width: 100%;overflow: auto;}#sk-container-id-1 input.sk-toggleable__control:checked~label.sk-toggleable__label-arrow:before {content: \"▾\";}#sk-container-id-1 div.sk-estimator input.sk-toggleable__control:checked~label.sk-toggleable__label {background-color: #d4ebff;}#sk-container-id-1 div.sk-label input.sk-toggleable__control:checked~label.sk-toggleable__label {background-color: #d4ebff;}#sk-container-id-1 input.sk-hidden--visually {border: 0;clip: rect(1px 1px 1px 1px);clip: rect(1px, 1px, 1px, 1px);height: 1px;margin: -1px;overflow: hidden;padding: 0;position: absolute;width: 1px;}#sk-container-id-1 div.sk-estimator {font-family: monospace;background-color: #f0f8ff;border: 1px dotted black;border-radius: 0.25em;box-sizing: border-box;margin-bottom: 0.5em;}#sk-container-id-1 div.sk-estimator:hover {background-color: #d4ebff;}#sk-container-id-1 div.sk-parallel-item::after {content: \"\";width: 100%;border-bottom: 1px solid gray;flex-grow: 1;}#sk-container-id-1 div.sk-label:hover label.sk-toggleable__label {background-color: #d4ebff;}#sk-container-id-1 div.sk-serial::before {content: \"\";position: absolute;border-left: 1px solid gray;box-sizing: border-box;top: 0;bottom: 0;left: 50%;z-index: 0;}#sk-container-id-1 div.sk-serial {display: flex;flex-direction: column;align-items: center;background-color: white;padding-right: 0.2em;padding-left: 0.2em;position: relative;}#sk-container-id-1 div.sk-item {position: relative;z-index: 1;}#sk-container-id-1 div.sk-parallel {display: flex;align-items: stretch;justify-content: center;background-color: white;position: relative;}#sk-container-id-1 div.sk-item::before, #sk-container-id-1 div.sk-parallel-item::before {content: \"\";position: absolute;border-left: 1px solid gray;box-sizing: border-box;top: 0;bottom: 0;left: 50%;z-index: -1;}#sk-container-id-1 div.sk-parallel-item {display: flex;flex-direction: column;z-index: 1;position: relative;background-color: white;}#sk-container-id-1 div.sk-parallel-item:first-child::after {align-self: flex-end;width: 50%;}#sk-container-id-1 div.sk-parallel-item:last-child::after {align-self: flex-start;width: 50%;}#sk-container-id-1 div.sk-parallel-item:only-child::after {width: 0;}#sk-container-id-1 div.sk-dashed-wrapped {border: 1px dashed gray;margin: 0 0.4em 0.5em 0.4em;box-sizing: border-box;padding-bottom: 0.4em;background-color: white;}#sk-container-id-1 div.sk-label label {font-family: monospace;font-weight: bold;display: inline-block;line-height: 1.2em;}#sk-container-id-1 div.sk-label-container {text-align: center;}#sk-container-id-1 div.sk-container {/* jupyter's `normalize.less` sets `[hidden] { display: none; }` but bootstrap.min.css set `[hidden] { display: none !important; }` so we also need the `!important` here to be able to override the default hidden behavior on the sphinx rendered scikit-learn.org. See: https://github.com/scikit-learn/scikit-learn/issues/21755 */display: inline-block !important;position: relative;}#sk-container-id-1 div.sk-text-repr-fallback {display: none;}</style><div id=\"sk-container-id-1\" class=\"sk-top-container\"><div class=\"sk-text-repr-fallback\"><pre>MultinomialNB()</pre><b>In a Jupyter environment, please rerun this cell to show the HTML representation or trust the notebook. <br />On GitHub, the HTML representation is unable to render, please try loading this page with nbviewer.org.</b></div><div class=\"sk-container\" hidden><div class=\"sk-item\"><div class=\"sk-estimator sk-toggleable\"><input class=\"sk-toggleable__control sk-hidden--visually\" id=\"sk-estimator-id-1\" type=\"checkbox\" checked><label for=\"sk-estimator-id-1\" class=\"sk-toggleable__label sk-toggleable__label-arrow\">MultinomialNB</label><div class=\"sk-toggleable__content\"><pre>MultinomialNB()</pre></div></div></div></div></div>"
      ],
      "text/plain": [
       "MultinomialNB()"
      ]
     },
     "execution_count": 16,
     "metadata": {},
     "output_type": "execute_result"
    }
   ],
   "source": [
    "nb_model = MultinomialNB()\n",
    "nb_model.fit(X_vectorized, y_train)"
   ]
  },
  {
   "cell_type": "code",
   "execution_count": 17,
   "id": "dcee664f",
   "metadata": {
    "execution": {
     "iopub.execute_input": "2024-04-16T00:12:37.515534Z",
     "iopub.status.busy": "2024-04-16T00:12:37.515098Z",
     "iopub.status.idle": "2024-04-16T00:12:37.625688Z",
     "shell.execute_reply": "2024-04-16T00:12:37.624682Z"
    },
    "id": "b6f1vFOa7Qj_",
    "papermill": {
     "duration": 0.127507,
     "end_time": "2024-04-16T00:12:37.628334",
     "exception": false,
     "start_time": "2024-04-16T00:12:37.500827",
     "status": "completed"
    },
    "tags": []
   },
   "outputs": [],
   "source": [
    "X_test = pd.read_csv('/kaggle/input/enap-anlise-de-sentimentos/test.csv', index_col=0)"
   ]
  },
  {
   "cell_type": "code",
   "execution_count": 18,
   "id": "2623be11",
   "metadata": {
    "execution": {
     "iopub.execute_input": "2024-04-16T00:12:37.655959Z",
     "iopub.status.busy": "2024-04-16T00:12:37.655110Z",
     "iopub.status.idle": "2024-04-16T00:12:37.660674Z",
     "shell.execute_reply": "2024-04-16T00:12:37.659525Z"
    },
    "id": "_6DVans37QkA",
    "papermill": {
     "duration": 0.021757,
     "end_time": "2024-04-16T00:12:37.663054",
     "exception": false,
     "start_time": "2024-04-16T00:12:37.641297",
     "status": "completed"
    },
    "tags": []
   },
   "outputs": [],
   "source": [
    "X_test = X_test['text']"
   ]
  },
  {
   "cell_type": "code",
   "execution_count": 19,
   "id": "cf8bb136",
   "metadata": {
    "execution": {
     "iopub.execute_input": "2024-04-16T00:12:37.690099Z",
     "iopub.status.busy": "2024-04-16T00:12:37.689675Z",
     "iopub.status.idle": "2024-04-16T00:12:38.310152Z",
     "shell.execute_reply": "2024-04-16T00:12:38.308793Z"
    },
    "id": "TxDhWWIh7QkB",
    "papermill": {
     "duration": 0.637468,
     "end_time": "2024-04-16T00:12:38.313125",
     "exception": false,
     "start_time": "2024-04-16T00:12:37.675657",
     "status": "completed"
    },
    "tags": []
   },
   "outputs": [],
   "source": [
    "X_vectorized = vectorizer.transform(X_test)"
   ]
  },
  {
   "cell_type": "code",
   "execution_count": 20,
   "id": "c783cfd2",
   "metadata": {
    "execution": {
     "iopub.execute_input": "2024-04-16T00:12:38.340637Z",
     "iopub.status.busy": "2024-04-16T00:12:38.340183Z",
     "iopub.status.idle": "2024-04-16T00:12:38.346873Z",
     "shell.execute_reply": "2024-04-16T00:12:38.345787Z"
    },
    "id": "1JT1KI9N7QkC",
    "papermill": {
     "duration": 0.023324,
     "end_time": "2024-04-16T00:12:38.349416",
     "exception": false,
     "start_time": "2024-04-16T00:12:38.326092",
     "status": "completed"
    },
    "tags": []
   },
   "outputs": [
    {
     "data": {
      "text/plain": [
       "<30000x75003 sparse matrix of type '<class 'numpy.int64'>'\n",
       "\twith 332109 stored elements in Compressed Sparse Row format>"
      ]
     },
     "execution_count": 20,
     "metadata": {},
     "output_type": "execute_result"
    }
   ],
   "source": [
    "X_vectorized"
   ]
  },
  {
   "cell_type": "code",
   "execution_count": 21,
   "id": "dd3e8d07",
   "metadata": {
    "execution": {
     "iopub.execute_input": "2024-04-16T00:12:38.376814Z",
     "iopub.status.busy": "2024-04-16T00:12:38.376439Z",
     "iopub.status.idle": "2024-04-16T00:12:38.388441Z",
     "shell.execute_reply": "2024-04-16T00:12:38.387425Z"
    },
    "id": "yqwwvoQE7QkD",
    "papermill": {
     "duration": 0.028913,
     "end_time": "2024-04-16T00:12:38.391044",
     "exception": false,
     "start_time": "2024-04-16T00:12:38.362131",
     "status": "completed"
    },
    "tags": []
   },
   "outputs": [],
   "source": [
    "y_pred = nb_model.predict(X_vectorized)"
   ]
  },
  {
   "cell_type": "code",
   "execution_count": 22,
   "id": "2224b9b0",
   "metadata": {
    "execution": {
     "iopub.execute_input": "2024-04-16T00:12:38.418725Z",
     "iopub.status.busy": "2024-04-16T00:12:38.418297Z",
     "iopub.status.idle": "2024-04-16T00:12:38.425898Z",
     "shell.execute_reply": "2024-04-16T00:12:38.424724Z"
    },
    "id": "SBWiKDAp7QkE",
    "papermill": {
     "duration": 0.024291,
     "end_time": "2024-04-16T00:12:38.428192",
     "exception": false,
     "start_time": "2024-04-16T00:12:38.403901",
     "status": "completed"
    },
    "tags": []
   },
   "outputs": [
    {
     "data": {
      "text/plain": [
       "array([4, 4, 0, ..., 0, 0, 4])"
      ]
     },
     "execution_count": 22,
     "metadata": {},
     "output_type": "execute_result"
    }
   ],
   "source": [
    "y_pred"
   ]
  },
  {
   "cell_type": "code",
   "execution_count": 23,
   "id": "d2688338",
   "metadata": {
    "execution": {
     "iopub.execute_input": "2024-04-16T00:12:38.456684Z",
     "iopub.status.busy": "2024-04-16T00:12:38.456314Z",
     "iopub.status.idle": "2024-04-16T00:12:38.464824Z",
     "shell.execute_reply": "2024-04-16T00:12:38.463566Z"
    },
    "id": "ZIWMFtFQ7QkG",
    "papermill": {
     "duration": 0.025516,
     "end_time": "2024-04-16T00:12:38.467233",
     "exception": false,
     "start_time": "2024-04-16T00:12:38.441717",
     "status": "completed"
    },
    "tags": []
   },
   "outputs": [
    {
     "name": "stdout",
     "output_type": "stream",
     "text": [
      "         target\n",
      "ID             \n",
      "1432466       4\n",
      "986192        4\n",
      "485147        0\n",
      "1265743       0\n",
      "346809        0\n",
      "...         ...\n",
      "830710        4\n",
      "27247         4\n",
      "104191        0\n",
      "185927        0\n",
      "1576861       4\n",
      "\n",
      "[30000 rows x 1 columns]\n"
     ]
    }
   ],
   "source": [
    "pred = pd.DataFrame({'target': y_pred}, index=X_test.index)\n",
    "\n",
    "print(pred)"
   ]
  },
  {
   "cell_type": "code",
   "execution_count": 24,
   "id": "ac18c7e6",
   "metadata": {
    "execution": {
     "iopub.execute_input": "2024-04-16T00:12:38.495811Z",
     "iopub.status.busy": "2024-04-16T00:12:38.495403Z",
     "iopub.status.idle": "2024-04-16T00:12:38.543890Z",
     "shell.execute_reply": "2024-04-16T00:12:38.542676Z"
    },
    "id": "wYqOpg7_7QkI",
    "papermill": {
     "duration": 0.065938,
     "end_time": "2024-04-16T00:12:38.546692",
     "exception": false,
     "start_time": "2024-04-16T00:12:38.480754",
     "status": "completed"
    },
    "tags": []
   },
   "outputs": [],
   "source": [
    "pred.to_csv('/kaggle/working/submission.csv')"
   ]
  },
  {
   "cell_type": "code",
   "execution_count": null,
   "id": "d8be7f44",
   "metadata": {
    "id": "qiPI_-uG7QkN",
    "papermill": {
     "duration": 0.013007,
     "end_time": "2024-04-16T00:12:38.573083",
     "exception": false,
     "start_time": "2024-04-16T00:12:38.560076",
     "status": "completed"
    },
    "tags": []
   },
   "outputs": [],
   "source": []
  }
 ],
 "metadata": {
  "colab": {
   "name": "exerc_01",
   "provenance": []
  },
  "kaggle": {
   "accelerator": "none",
   "dataSources": [
    {
     "databundleVersionId": 8101446,
     "sourceId": 73427,
     "sourceType": "competition"
    }
   ],
   "dockerImageVersionId": 30684,
   "isGpuEnabled": false,
   "isInternetEnabled": true,
   "language": "python",
   "sourceType": "notebook"
  },
  "kernelspec": {
   "display_name": "Python 3",
   "language": "python",
   "name": "python3"
  },
  "language_info": {
   "codemirror_mode": {
    "name": "ipython",
    "version": 3
   },
   "file_extension": ".py",
   "mimetype": "text/x-python",
   "name": "python",
   "nbconvert_exporter": "python",
   "pygments_lexer": "ipython3",
   "version": "3.10.13"
  },
  "papermill": {
   "default_parameters": {},
   "duration": 20.905617,
   "end_time": "2024-04-16T00:12:39.909814",
   "environment_variables": {},
   "exception": null,
   "input_path": "__notebook__.ipynb",
   "output_path": "__notebook__.ipynb",
   "parameters": {},
   "start_time": "2024-04-16T00:12:19.004197",
   "version": "2.5.0"
  }
 },
 "nbformat": 4,
 "nbformat_minor": 5
}

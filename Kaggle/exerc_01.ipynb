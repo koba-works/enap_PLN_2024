{
  "metadata": {
    "kernelspec": {
      "name": "python3",
      "display_name": "Python 3",
      "language": "python"
    },
    "language_info": {
      "name": "python",
      "version": "3.10.13",
      "mimetype": "text/x-python",
      "codemirror_mode": {
        "name": "ipython",
        "version": 3
      },
      "pygments_lexer": "ipython3",
      "nbconvert_exporter": "python",
      "file_extension": ".py"
    },
    "kaggle": {
      "accelerator": "none",
      "dataSources": [
        {
          "sourceId": 73427,
          "databundleVersionId": 8101446,
          "sourceType": "competition"
        }
      ],
      "dockerImageVersionId": 30684,
      "isInternetEnabled": true,
      "language": "python",
      "sourceType": "notebook",
      "isGpuEnabled": false
    },
    "colab": {
      "name": "exerc_01",
      "provenance": [],
      "include_colab_link": true
    }
  },
  "nbformat_minor": 0,
  "nbformat": 4,
  "cells": [
    {
      "cell_type": "markdown",
      "metadata": {
        "id": "view-in-github",
        "colab_type": "text"
      },
      "source": [
        "<a href=\"https://colab.research.google.com/github/koba-works/enap_PLN_2024/blob/main/Kaggle/exerc_01.ipynb\" target=\"_parent\"><img src=\"https://colab.research.google.com/assets/colab-badge.svg\" alt=\"Open In Colab\"/></a>"
      ]
    },
    {
      "source": [
        "\n",
        "# IMPORTANT: RUN THIS CELL IN ORDER TO IMPORT YOUR KAGGLE DATA SOURCES\n",
        "# TO THE CORRECT LOCATION (/kaggle/input) IN YOUR NOTEBOOK,\n",
        "# THEN FEEL FREE TO DELETE THIS CELL.\n",
        "# NOTE: THIS NOTEBOOK ENVIRONMENT DIFFERS FROM KAGGLE'S PYTHON\n",
        "# ENVIRONMENT SO THERE MAY BE MISSING LIBRARIES USED BY YOUR\n",
        "# NOTEBOOK.\n",
        "\n",
        "import os\n",
        "import sys\n",
        "from tempfile import NamedTemporaryFile\n",
        "from urllib.request import urlopen\n",
        "from urllib.parse import unquote, urlparse\n",
        "from urllib.error import HTTPError\n",
        "from zipfile import ZipFile\n",
        "import tarfile\n",
        "import shutil\n",
        "\n",
        "CHUNK_SIZE = 40960\n",
        "DATA_SOURCE_MAPPING = 'enap-anlise-de-sentimentos:https%3A%2F%2Fstorage.googleapis.com%2Fkaggle-competitions-data%2Fkaggle-v2%2F73427%2F8101446%2Fbundle%2Farchive.zip%3FX-Goog-Algorithm%3DGOOG4-RSA-SHA256%26X-Goog-Credential%3Dgcp-kaggle-com%2540kaggle-161607.iam.gserviceaccount.com%252F20240415%252Fauto%252Fstorage%252Fgoog4_request%26X-Goog-Date%3D20240415T224222Z%26X-Goog-Expires%3D259200%26X-Goog-SignedHeaders%3Dhost%26X-Goog-Signature%3Dd0a4fabf1966d9be3a59e3f2831fc10b568ec321c040f11cfc9f7ec1a2f884578e38b29fe4572b30a04ed843a35c6e247b54b5f74240349e7d1b86c8ea2d7e3d207d4b2bd4407fe65cc99581f0ce90184ee81fb88147e51250dace59e48c2e8cb22cdeef5eaab1bb37ae8e1989c06f161ae75893da88a5063a5478940398da9a567989140926083df2078b8b626b9b4c2a9fd1d1d3c5ff38536967dc33bfe66e613d4a3e4de5cd2274da0d27e94b0b639be8738e6b1e316f6dc44e5ccfdf1b35c1f41cbdc59a136a5f0b616d78e95f2370fae3b55bc2900c739ee5fe5b8b14e44fc3d6ba86cee17438bcf23ae217bdf7fb4b7f3b56aeebde0d56aac0bdde06c9'\n",
        "\n",
        "KAGGLE_INPUT_PATH='/kaggle/input'\n",
        "KAGGLE_WORKING_PATH='/kaggle/working'\n",
        "KAGGLE_SYMLINK='kaggle'\n",
        "\n",
        "!umount /kaggle/input/ 2> /dev/null\n",
        "shutil.rmtree('/kaggle/input', ignore_errors=True)\n",
        "os.makedirs(KAGGLE_INPUT_PATH, 0o777, exist_ok=True)\n",
        "os.makedirs(KAGGLE_WORKING_PATH, 0o777, exist_ok=True)\n",
        "\n",
        "try:\n",
        "  os.symlink(KAGGLE_INPUT_PATH, os.path.join(\"..\", 'input'), target_is_directory=True)\n",
        "except FileExistsError:\n",
        "  pass\n",
        "try:\n",
        "  os.symlink(KAGGLE_WORKING_PATH, os.path.join(\"..\", 'working'), target_is_directory=True)\n",
        "except FileExistsError:\n",
        "  pass\n",
        "\n",
        "for data_source_mapping in DATA_SOURCE_MAPPING.split(','):\n",
        "    directory, download_url_encoded = data_source_mapping.split(':')\n",
        "    download_url = unquote(download_url_encoded)\n",
        "    filename = urlparse(download_url).path\n",
        "    destination_path = os.path.join(KAGGLE_INPUT_PATH, directory)\n",
        "    try:\n",
        "        with urlopen(download_url) as fileres, NamedTemporaryFile() as tfile:\n",
        "            total_length = fileres.headers['content-length']\n",
        "            print(f'Downloading {directory}, {total_length} bytes compressed')\n",
        "            dl = 0\n",
        "            data = fileres.read(CHUNK_SIZE)\n",
        "            while len(data) > 0:\n",
        "                dl += len(data)\n",
        "                tfile.write(data)\n",
        "                done = int(50 * dl / int(total_length))\n",
        "                sys.stdout.write(f\"\\r[{'=' * done}{' ' * (50-done)}] {dl} bytes downloaded\")\n",
        "                sys.stdout.flush()\n",
        "                data = fileres.read(CHUNK_SIZE)\n",
        "            if filename.endswith('.zip'):\n",
        "              with ZipFile(tfile) as zfile:\n",
        "                zfile.extractall(destination_path)\n",
        "            else:\n",
        "              with tarfile.open(tfile.name) as tarfile:\n",
        "                tarfile.extractall(destination_path)\n",
        "            print(f'\\nDownloaded and uncompressed: {directory}')\n",
        "    except HTTPError as e:\n",
        "        print(f'Failed to load (likely expired) {download_url} to path {destination_path}')\n",
        "        continue\n",
        "    except OSError as e:\n",
        "        print(f'Failed to load {download_url} to path {destination_path}')\n",
        "        continue\n",
        "\n",
        "print('Data source import complete.')\n"
      ],
      "metadata": {
        "id": "8Iotltpx7QjJ",
        "outputId": "6d7324d9-4ad3-4b18-e49c-848fced03703",
        "colab": {
          "base_uri": "https://localhost:8080/"
        }
      },
      "cell_type": "code",
      "outputs": [
        {
          "output_type": "stream",
          "name": "stdout",
          "text": [
            "Downloading enap-anlise-de-sentimentos, 4132713 bytes compressed\n",
            "[==================================================] 4132713 bytes downloaded\n",
            "Downloaded and uncompressed: enap-anlise-de-sentimentos\n",
            "Data source import complete.\n"
          ]
        }
      ],
      "execution_count": null
    },
    {
      "cell_type": "markdown",
      "source": [
        "# Exercício de Classificação de Análise de Sentimentos"
      ],
      "metadata": {
        "id": "civjokOj7QjO"
      }
    },
    {
      "cell_type": "markdown",
      "source": [
        "O objetivo do exercício é explorar técnicas de pré-processamento de texto, como remoção de stopwords, tokenização e stemming, além de aplicar técnicas de vetorização, como Bag of Words (BoW) e Term Frequency-Inverse Document Frequency (TF-IDF) para classificar a polaridade de tweets em positivas ou negativas."
      ],
      "metadata": {
        "id": "cXJ_o_NM7QjR"
      }
    },
    {
      "cell_type": "markdown",
      "source": [
        "## Importar bibliotecas, carregar datasets, etc."
      ],
      "metadata": {
        "id": "nNMDueIY7QjT"
      }
    },
    {
      "cell_type": "code",
      "source": [
        "# importar bibliotecas basicas:\n",
        "import random\n",
        "import pandas as pd\n",
        "import matplotlib as plot\n",
        "import seaborn as sns\n",
        "\n",
        "# bibliotecas complementares\n",
        "import codecs\n",
        "import nltk\n",
        "import re\n",
        "import spacy\n",
        "import string\n",
        "import unicodedata"
      ],
      "metadata": {
        "execution": {
          "iopub.status.busy": "2024-04-15T21:18:51.736309Z",
          "iopub.execute_input": "2024-04-15T21:18:51.736748Z",
          "iopub.status.idle": "2024-04-15T21:18:52.887743Z",
          "shell.execute_reply.started": "2024-04-15T21:18:51.736714Z",
          "shell.execute_reply": "2024-04-15T21:18:52.886345Z"
        },
        "trusted": true,
        "id": "2T0MXrZQ7QjV"
      },
      "execution_count": null,
      "outputs": []
    },
    {
      "cell_type": "code",
      "source": [
        "# aleatoriedade controlada\n",
        "random.seed(42)"
      ],
      "metadata": {
        "execution": {
          "iopub.status.busy": "2024-04-15T22:27:14.250204Z",
          "iopub.execute_input": "2024-04-15T22:27:14.251477Z",
          "iopub.status.idle": "2024-04-15T22:27:14.256187Z",
          "shell.execute_reply.started": "2024-04-15T22:27:14.251438Z",
          "shell.execute_reply": "2024-04-15T22:27:14.255021Z"
        },
        "trusted": true,
        "id": "OIMvrbpB7QjX"
      },
      "execution_count": null,
      "outputs": []
    },
    {
      "cell_type": "code",
      "source": [
        "# carregar dataset de treino\n",
        "train = pd.read_csv('/kaggle/input/enap-anlise-de-sentimentos/train.csv', index_col=0)"
      ],
      "metadata": {
        "execution": {
          "iopub.status.busy": "2024-04-15T21:18:52.896978Z",
          "iopub.execute_input": "2024-04-15T21:18:52.897639Z",
          "iopub.status.idle": "2024-04-15T21:18:53.138831Z",
          "shell.execute_reply.started": "2024-04-15T21:18:52.897606Z",
          "shell.execute_reply": "2024-04-15T21:18:53.137641Z"
        },
        "trusted": true,
        "id": "fFIzaQR97Qja"
      },
      "execution_count": null,
      "outputs": []
    },
    {
      "cell_type": "markdown",
      "source": [
        "## Pré analise"
      ],
      "metadata": {
        "id": "KjuNxj2A7Qjd"
      }
    },
    {
      "cell_type": "code",
      "source": [
        "# Pré avaliação do dataset que está sendo carregado\n",
        "print(train)"
      ],
      "metadata": {
        "execution": {
          "iopub.status.busy": "2024-04-15T22:21:19.788187Z",
          "iopub.execute_input": "2024-04-15T22:21:19.788981Z",
          "iopub.status.idle": "2024-04-15T22:21:19.802008Z",
          "shell.execute_reply.started": "2024-04-15T22:21:19.788939Z",
          "shell.execute_reply": "2024-04-15T22:21:19.800486Z"
        },
        "trusted": true,
        "id": "bNSI2uxe7Qjg",
        "outputId": "13b5af1f-6206-4d52-f88d-c1750497107f",
        "colab": {
          "base_uri": "https://localhost:8080/"
        }
      },
      "execution_count": null,
      "outputs": [
        {
          "output_type": "stream",
          "name": "stdout",
          "text": [
            "                                                      text  target\n",
            "ID                                                                \n",
            "1439813  @sweet19 thanksies but ur so lucky u are in hi...       4\n",
            "621715                at the park playing tennis. i suck.        0\n",
            "1188021               @tontokaru happy belated bday babe!        4\n",
            "300651              @DxBLOCK  DM me your number again pls        0\n",
            "757974                           Rest in Peace Ed McMahon        0\n",
            "...                                                    ...     ...\n",
            "1312263  @conc3p  &quot;I want him to watch&quot; + &qu...       4\n",
            "143846                       @gershgorin that's awful!!!!        0\n",
            "1253750  @HipMamaB LOL - I remember that episode!!  (wh...       4\n",
            "134415                          @cooliesupreme I am sorry        0\n",
            "1218280     @sesam not to worry, I don't use lifts either        4\n",
            "\n",
            "[70000 rows x 2 columns]\n"
          ]
        }
      ]
    },
    {
      "cell_type": "markdown",
      "source": [
        "Dá pra notar que tem muita 💩 no texto...\n",
        "exemplos:\n",
        "* uso de simbolos: @ ! ; + &\n",
        "* girias: LOL DM bday ur\n",
        "* erro de grafias: thanksies\n"
      ],
      "metadata": {
        "id": "KjWawf1M7Qjn"
      }
    },
    {
      "cell_type": "code",
      "source": [
        "train.dropna()\n",
        "train.columns = ['text','target']\n",
        "train.head()"
      ],
      "metadata": {
        "execution": {
          "iopub.status.busy": "2024-04-15T22:35:08.80006Z",
          "iopub.execute_input": "2024-04-15T22:35:08.801172Z",
          "iopub.status.idle": "2024-04-15T22:35:08.816336Z",
          "shell.execute_reply.started": "2024-04-15T22:35:08.801132Z",
          "shell.execute_reply": "2024-04-15T22:35:08.815194Z"
        },
        "trusted": true,
        "id": "aj9kL8Q77Qjq",
        "outputId": "05b64154-ebe9-4031-bb45-cd57c4511eaf",
        "colab": {
          "base_uri": "https://localhost:8080/",
          "height": 238
        }
      },
      "execution_count": null,
      "outputs": [
        {
          "output_type": "execute_result",
          "data": {
            "text/plain": [
              "                                                      text  target\n",
              "ID                                                                \n",
              "1439813  @sweet19 thanksies but ur so lucky u are in hi...       4\n",
              "621715                at the park playing tennis. i suck.        0\n",
              "1188021               @tontokaru happy belated bday babe!        4\n",
              "300651              @DxBLOCK  DM me your number again pls        0\n",
              "757974                           Rest in Peace Ed McMahon        0"
            ],
            "text/html": [
              "\n",
              "  <div id=\"df-34959137-c7ef-4513-8af6-f32490f3e5b5\" class=\"colab-df-container\">\n",
              "    <div>\n",
              "<style scoped>\n",
              "    .dataframe tbody tr th:only-of-type {\n",
              "        vertical-align: middle;\n",
              "    }\n",
              "\n",
              "    .dataframe tbody tr th {\n",
              "        vertical-align: top;\n",
              "    }\n",
              "\n",
              "    .dataframe thead th {\n",
              "        text-align: right;\n",
              "    }\n",
              "</style>\n",
              "<table border=\"1\" class=\"dataframe\">\n",
              "  <thead>\n",
              "    <tr style=\"text-align: right;\">\n",
              "      <th></th>\n",
              "      <th>text</th>\n",
              "      <th>target</th>\n",
              "    </tr>\n",
              "    <tr>\n",
              "      <th>ID</th>\n",
              "      <th></th>\n",
              "      <th></th>\n",
              "    </tr>\n",
              "  </thead>\n",
              "  <tbody>\n",
              "    <tr>\n",
              "      <th>1439813</th>\n",
              "      <td>@sweet19 thanksies but ur so lucky u are in hi...</td>\n",
              "      <td>4</td>\n",
              "    </tr>\n",
              "    <tr>\n",
              "      <th>621715</th>\n",
              "      <td>at the park playing tennis. i suck.</td>\n",
              "      <td>0</td>\n",
              "    </tr>\n",
              "    <tr>\n",
              "      <th>1188021</th>\n",
              "      <td>@tontokaru happy belated bday babe!</td>\n",
              "      <td>4</td>\n",
              "    </tr>\n",
              "    <tr>\n",
              "      <th>300651</th>\n",
              "      <td>@DxBLOCK  DM me your number again pls</td>\n",
              "      <td>0</td>\n",
              "    </tr>\n",
              "    <tr>\n",
              "      <th>757974</th>\n",
              "      <td>Rest in Peace Ed McMahon</td>\n",
              "      <td>0</td>\n",
              "    </tr>\n",
              "  </tbody>\n",
              "</table>\n",
              "</div>\n",
              "    <div class=\"colab-df-buttons\">\n",
              "\n",
              "  <div class=\"colab-df-container\">\n",
              "    <button class=\"colab-df-convert\" onclick=\"convertToInteractive('df-34959137-c7ef-4513-8af6-f32490f3e5b5')\"\n",
              "            title=\"Convert this dataframe to an interactive table.\"\n",
              "            style=\"display:none;\">\n",
              "\n",
              "  <svg xmlns=\"http://www.w3.org/2000/svg\" height=\"24px\" viewBox=\"0 -960 960 960\">\n",
              "    <path d=\"M120-120v-720h720v720H120Zm60-500h600v-160H180v160Zm220 220h160v-160H400v160Zm0 220h160v-160H400v160ZM180-400h160v-160H180v160Zm440 0h160v-160H620v160ZM180-180h160v-160H180v160Zm440 0h160v-160H620v160Z\"/>\n",
              "  </svg>\n",
              "    </button>\n",
              "\n",
              "  <style>\n",
              "    .colab-df-container {\n",
              "      display:flex;\n",
              "      gap: 12px;\n",
              "    }\n",
              "\n",
              "    .colab-df-convert {\n",
              "      background-color: #E8F0FE;\n",
              "      border: none;\n",
              "      border-radius: 50%;\n",
              "      cursor: pointer;\n",
              "      display: none;\n",
              "      fill: #1967D2;\n",
              "      height: 32px;\n",
              "      padding: 0 0 0 0;\n",
              "      width: 32px;\n",
              "    }\n",
              "\n",
              "    .colab-df-convert:hover {\n",
              "      background-color: #E2EBFA;\n",
              "      box-shadow: 0px 1px 2px rgba(60, 64, 67, 0.3), 0px 1px 3px 1px rgba(60, 64, 67, 0.15);\n",
              "      fill: #174EA6;\n",
              "    }\n",
              "\n",
              "    .colab-df-buttons div {\n",
              "      margin-bottom: 4px;\n",
              "    }\n",
              "\n",
              "    [theme=dark] .colab-df-convert {\n",
              "      background-color: #3B4455;\n",
              "      fill: #D2E3FC;\n",
              "    }\n",
              "\n",
              "    [theme=dark] .colab-df-convert:hover {\n",
              "      background-color: #434B5C;\n",
              "      box-shadow: 0px 1px 3px 1px rgba(0, 0, 0, 0.15);\n",
              "      filter: drop-shadow(0px 1px 2px rgba(0, 0, 0, 0.3));\n",
              "      fill: #FFFFFF;\n",
              "    }\n",
              "  </style>\n",
              "\n",
              "    <script>\n",
              "      const buttonEl =\n",
              "        document.querySelector('#df-34959137-c7ef-4513-8af6-f32490f3e5b5 button.colab-df-convert');\n",
              "      buttonEl.style.display =\n",
              "        google.colab.kernel.accessAllowed ? 'block' : 'none';\n",
              "\n",
              "      async function convertToInteractive(key) {\n",
              "        const element = document.querySelector('#df-34959137-c7ef-4513-8af6-f32490f3e5b5');\n",
              "        const dataTable =\n",
              "          await google.colab.kernel.invokeFunction('convertToInteractive',\n",
              "                                                    [key], {});\n",
              "        if (!dataTable) return;\n",
              "\n",
              "        const docLinkHtml = 'Like what you see? Visit the ' +\n",
              "          '<a target=\"_blank\" href=https://colab.research.google.com/notebooks/data_table.ipynb>data table notebook</a>'\n",
              "          + ' to learn more about interactive tables.';\n",
              "        element.innerHTML = '';\n",
              "        dataTable['output_type'] = 'display_data';\n",
              "        await google.colab.output.renderOutput(dataTable, element);\n",
              "        const docLink = document.createElement('div');\n",
              "        docLink.innerHTML = docLinkHtml;\n",
              "        element.appendChild(docLink);\n",
              "      }\n",
              "    </script>\n",
              "  </div>\n",
              "\n",
              "\n",
              "<div id=\"df-5a507972-520a-41df-8433-6d25c3b20a96\">\n",
              "  <button class=\"colab-df-quickchart\" onclick=\"quickchart('df-5a507972-520a-41df-8433-6d25c3b20a96')\"\n",
              "            title=\"Suggest charts\"\n",
              "            style=\"display:none;\">\n",
              "\n",
              "<svg xmlns=\"http://www.w3.org/2000/svg\" height=\"24px\"viewBox=\"0 0 24 24\"\n",
              "     width=\"24px\">\n",
              "    <g>\n",
              "        <path d=\"M19 3H5c-1.1 0-2 .9-2 2v14c0 1.1.9 2 2 2h14c1.1 0 2-.9 2-2V5c0-1.1-.9-2-2-2zM9 17H7v-7h2v7zm4 0h-2V7h2v10zm4 0h-2v-4h2v4z\"/>\n",
              "    </g>\n",
              "</svg>\n",
              "  </button>\n",
              "\n",
              "<style>\n",
              "  .colab-df-quickchart {\n",
              "      --bg-color: #E8F0FE;\n",
              "      --fill-color: #1967D2;\n",
              "      --hover-bg-color: #E2EBFA;\n",
              "      --hover-fill-color: #174EA6;\n",
              "      --disabled-fill-color: #AAA;\n",
              "      --disabled-bg-color: #DDD;\n",
              "  }\n",
              "\n",
              "  [theme=dark] .colab-df-quickchart {\n",
              "      --bg-color: #3B4455;\n",
              "      --fill-color: #D2E3FC;\n",
              "      --hover-bg-color: #434B5C;\n",
              "      --hover-fill-color: #FFFFFF;\n",
              "      --disabled-bg-color: #3B4455;\n",
              "      --disabled-fill-color: #666;\n",
              "  }\n",
              "\n",
              "  .colab-df-quickchart {\n",
              "    background-color: var(--bg-color);\n",
              "    border: none;\n",
              "    border-radius: 50%;\n",
              "    cursor: pointer;\n",
              "    display: none;\n",
              "    fill: var(--fill-color);\n",
              "    height: 32px;\n",
              "    padding: 0;\n",
              "    width: 32px;\n",
              "  }\n",
              "\n",
              "  .colab-df-quickchart:hover {\n",
              "    background-color: var(--hover-bg-color);\n",
              "    box-shadow: 0 1px 2px rgba(60, 64, 67, 0.3), 0 1px 3px 1px rgba(60, 64, 67, 0.15);\n",
              "    fill: var(--button-hover-fill-color);\n",
              "  }\n",
              "\n",
              "  .colab-df-quickchart-complete:disabled,\n",
              "  .colab-df-quickchart-complete:disabled:hover {\n",
              "    background-color: var(--disabled-bg-color);\n",
              "    fill: var(--disabled-fill-color);\n",
              "    box-shadow: none;\n",
              "  }\n",
              "\n",
              "  .colab-df-spinner {\n",
              "    border: 2px solid var(--fill-color);\n",
              "    border-color: transparent;\n",
              "    border-bottom-color: var(--fill-color);\n",
              "    animation:\n",
              "      spin 1s steps(1) infinite;\n",
              "  }\n",
              "\n",
              "  @keyframes spin {\n",
              "    0% {\n",
              "      border-color: transparent;\n",
              "      border-bottom-color: var(--fill-color);\n",
              "      border-left-color: var(--fill-color);\n",
              "    }\n",
              "    20% {\n",
              "      border-color: transparent;\n",
              "      border-left-color: var(--fill-color);\n",
              "      border-top-color: var(--fill-color);\n",
              "    }\n",
              "    30% {\n",
              "      border-color: transparent;\n",
              "      border-left-color: var(--fill-color);\n",
              "      border-top-color: var(--fill-color);\n",
              "      border-right-color: var(--fill-color);\n",
              "    }\n",
              "    40% {\n",
              "      border-color: transparent;\n",
              "      border-right-color: var(--fill-color);\n",
              "      border-top-color: var(--fill-color);\n",
              "    }\n",
              "    60% {\n",
              "      border-color: transparent;\n",
              "      border-right-color: var(--fill-color);\n",
              "    }\n",
              "    80% {\n",
              "      border-color: transparent;\n",
              "      border-right-color: var(--fill-color);\n",
              "      border-bottom-color: var(--fill-color);\n",
              "    }\n",
              "    90% {\n",
              "      border-color: transparent;\n",
              "      border-bottom-color: var(--fill-color);\n",
              "    }\n",
              "  }\n",
              "</style>\n",
              "\n",
              "  <script>\n",
              "    async function quickchart(key) {\n",
              "      const quickchartButtonEl =\n",
              "        document.querySelector('#' + key + ' button');\n",
              "      quickchartButtonEl.disabled = true;  // To prevent multiple clicks.\n",
              "      quickchartButtonEl.classList.add('colab-df-spinner');\n",
              "      try {\n",
              "        const charts = await google.colab.kernel.invokeFunction(\n",
              "            'suggestCharts', [key], {});\n",
              "      } catch (error) {\n",
              "        console.error('Error during call to suggestCharts:', error);\n",
              "      }\n",
              "      quickchartButtonEl.classList.remove('colab-df-spinner');\n",
              "      quickchartButtonEl.classList.add('colab-df-quickchart-complete');\n",
              "    }\n",
              "    (() => {\n",
              "      let quickchartButtonEl =\n",
              "        document.querySelector('#df-5a507972-520a-41df-8433-6d25c3b20a96 button');\n",
              "      quickchartButtonEl.style.display =\n",
              "        google.colab.kernel.accessAllowed ? 'block' : 'none';\n",
              "    })();\n",
              "  </script>\n",
              "</div>\n",
              "\n",
              "    </div>\n",
              "  </div>\n"
            ],
            "application/vnd.google.colaboratory.intrinsic+json": {
              "type": "dataframe",
              "variable_name": "train",
              "summary": "{\n  \"name\": \"train\",\n  \"rows\": 70000,\n  \"fields\": [\n    {\n      \"column\": \"ID\",\n      \"properties\": {\n        \"dtype\": \"number\",\n        \"std\": 461289,\n        \"min\": 5,\n        \"max\": 1599943,\n        \"num_unique_values\": 70000,\n        \"samples\": [\n          1212900,\n          686910,\n          371977\n        ],\n        \"semantic_type\": \"\",\n        \"description\": \"\"\n      }\n    },\n    {\n      \"column\": \"text\",\n      \"properties\": {\n        \"dtype\": \"string\",\n        \"num_unique_values\": 69856,\n        \"samples\": [\n          \"off for a BBQ this aft! \",\n          \"draggin out 20 minutes so i can have a full 3 hrs OT \",\n          \"#FollowFriday Lovely people @_santi @Emperor_Richard @Tazz602 @Xavierism @HedleyZafer @CRAGGSC thank u guys LOL \"\n        ],\n        \"semantic_type\": \"\",\n        \"description\": \"\"\n      }\n    },\n    {\n      \"column\": \"target\",\n      \"properties\": {\n        \"dtype\": \"number\",\n        \"std\": 2,\n        \"min\": 0,\n        \"max\": 4,\n        \"num_unique_values\": 2,\n        \"samples\": [\n          0,\n          4\n        ],\n        \"semantic_type\": \"\",\n        \"description\": \"\"\n      }\n    }\n  ]\n}"
            }
          },
          "metadata": {},
          "execution_count": 5
        }
      ]
    },
    {
      "source": [
        "# @title distribuição das classes alvo\n",
        "\n",
        "from matplotlib import pyplot as plt\n",
        "train['target'].plot(kind='hist', bins=20, title='target')\n",
        "plt.gca().spines[['top', 'right',]].set_visible(False)"
      ],
      "cell_type": "code",
      "execution_count": null,
      "outputs": [
        {
          "output_type": "display_data",
          "data": {
            "text/plain": [
              "<Figure size 640x480 with 1 Axes>"
            ],
            "image/png": "[encoded data removed]"
          },
          "metadata": {}
        }
      ],
      "metadata": {
        "id": "dgtDwSxSDtwe",
        "outputId": "fe90bfdc-8332-429b-da9c-be635b19165a",
        "colab": {
          "base_uri": "https://localhost:8080/",
          "height": 452
        }
      }
    },
    {
      "cell_type": "markdown",
      "source": [
        "### Avaliação de distribuição das classes alvo"
      ],
      "metadata": {
        "id": "HHP1u5tJ7f6R"
      }
    },
    {
      "cell_type": "code",
      "source": [
        "balance_counts = train.groupby('target')['target'].agg('count').values\n",
        "balance_counts"
      ],
      "metadata": {
        "id": "fQQ5DVAN7v8L",
        "outputId": "37aa4bb0-15c0-421d-83c2-6197c0a768b6",
        "colab": {
          "base_uri": "https://localhost:8080/"
        }
      },
      "execution_count": null,
      "outputs": [
        {
          "output_type": "execute_result",
          "data": {
            "text/plain": [
              "array([34970, 35030])"
            ]
          },
          "metadata": {},
          "execution_count": 7
        }
      ]
    },
    {
      "cell_type": "code",
      "source": [
        "# Analise grafica para avaliar possível desbalanceamento de classes alvo\n",
        "\n",
        "import matplotlib.pyplot as plt\n",
        "import seaborn as sns\n",
        "\n",
        "# Create a bar chart of the target counts\n",
        "sns.barplot(x=['Negative', 'Positive'], y=balance_counts)\n",
        "\n",
        "# Add labels to the bars\n",
        "for i, value in enumerate(balance_counts):\n",
        "    plt.text(i, value, str(value), ha='center', va='bottom')\n",
        "\n",
        "# Show the plot\n",
        "plt.show()"
      ],
      "metadata": {
        "id": "eQv2kKPH8gTC",
        "outputId": "704df709-01db-482c-e84f-677b66e9ed3a",
        "colab": {
          "base_uri": "https://localhost:8080/",
          "height": 430
        }
      },
      "execution_count": null,
      "outputs": [
        {
          "output_type": "display_data",
          "data": {
            "text/plain": [
              "<Figure size 640x480 with 1 Axes>"
            ],
            "image/png": "[encoded data removed]"
          },
          "metadata": {}
        }
      ]
    },
    {
      "cell_type": "markdown",
      "source": [
        "## Pre-processamento"
      ],
      "metadata": {
        "id": "JJJoyV_G7Qjt"
      }
    },
    {
      "cell_type": "markdown",
      "source": [
        "### Limpeza do corpus de treinamento"
      ],
      "metadata": {
        "id": "VlHYAly4F1WJ"
      }
    },
    {
      "cell_type": "code",
      "source": [
        "'''texto em minúsculas, remova o texto entre colchetes, remova links, remova pontuações e remova palavras que contenham números.'''\n",
        "\n",
        "def clean_text(text):\n",
        "    text = str(text).lower()\n",
        "    text = re.sub('\\[.*?\\]', '', text)\n",
        "    text = re.sub('https?://\\S+|www\\.\\S+', '', text)\n",
        "    text = re.sub('<.*?>+', '', text)\n",
        "    text = re.sub('[%s]' % re.escape(string.punctuation), '', text)\n",
        "    text = re.sub('\\n', '', text)\n",
        "    text = re.sub('\\w*\\d\\w*', '', text)\n",
        "    return text"
      ],
      "metadata": {
        "id": "X_InNJrf_ZhI"
      },
      "execution_count": null,
      "outputs": []
    },
    {
      "cell_type": "code",
      "source": [
        "train['text_clean'] = train['text'].apply(clean_text)\n",
        "train.head()"
      ],
      "metadata": {
        "id": "0J_exhvMBX6M",
        "outputId": "9152f52a-6118-4b07-c78e-1f35188e550d",
        "colab": {
          "base_uri": "https://localhost:8080/",
          "height": 290
        }
      },
      "execution_count": null,
      "outputs": [
        {
          "output_type": "execute_result",
          "data": {
            "text/plain": [
              "                                                      text  target  \\\n",
              "ID                                                                   \n",
              "1439813  @sweet19 thanksies but ur so lucky u are in hi...       4   \n",
              "621715                at the park playing tennis. i suck.        0   \n",
              "1188021               @tontokaru happy belated bday babe!        4   \n",
              "300651              @DxBLOCK  DM me your number again pls        0   \n",
              "757974                           Rest in Peace Ed McMahon        0   \n",
              "\n",
              "                                                text_clean  \n",
              "ID                                                          \n",
              "1439813   thanksies but ur so lucky u are in high schoo...  \n",
              "621715                  at the park playing tennis i suck   \n",
              "1188021                 tontokaru happy belated bday babe   \n",
              "300651               dxblock  dm me your number again pls   \n",
              "757974                           rest in peace ed mcmahon   "
            ],
            "text/html": [
              "\n",
              "  <div id=\"df-761eeee7-0a85-4509-8546-bf564149a728\" class=\"colab-df-container\">\n",
              "    <div>\n",
              "<style scoped>\n",
              "    .dataframe tbody tr th:only-of-type {\n",
              "        vertical-align: middle;\n",
              "    }\n",
              "\n",
              "    .dataframe tbody tr th {\n",
              "        vertical-align: top;\n",
              "    }\n",
              "\n",
              "    .dataframe thead th {\n",
              "        text-align: right;\n",
              "    }\n",
              "</style>\n",
              "<table border=\"1\" class=\"dataframe\">\n",
              "  <thead>\n",
              "    <tr style=\"text-align: right;\">\n",
              "      <th></th>\n",
              "      <th>text</th>\n",
              "      <th>target</th>\n",
              "      <th>text_clean</th>\n",
              "    </tr>\n",
              "    <tr>\n",
              "      <th>ID</th>\n",
              "      <th></th>\n",
              "      <th></th>\n",
              "      <th></th>\n",
              "    </tr>\n",
              "  </thead>\n",
              "  <tbody>\n",
              "    <tr>\n",
              "      <th>1439813</th>\n",
              "      <td>@sweet19 thanksies but ur so lucky u are in hi...</td>\n",
              "      <td>4</td>\n",
              "      <td>thanksies but ur so lucky u are in high schoo...</td>\n",
              "    </tr>\n",
              "    <tr>\n",
              "      <th>621715</th>\n",
              "      <td>at the park playing tennis. i suck.</td>\n",
              "      <td>0</td>\n",
              "      <td>at the park playing tennis i suck</td>\n",
              "    </tr>\n",
              "    <tr>\n",
              "      <th>1188021</th>\n",
              "      <td>@tontokaru happy belated bday babe!</td>\n",
              "      <td>4</td>\n",
              "      <td>tontokaru happy belated bday babe</td>\n",
              "    </tr>\n",
              "    <tr>\n",
              "      <th>300651</th>\n",
              "      <td>@DxBLOCK  DM me your number again pls</td>\n",
              "      <td>0</td>\n",
              "      <td>dxblock  dm me your number again pls</td>\n",
              "    </tr>\n",
              "    <tr>\n",
              "      <th>757974</th>\n",
              "      <td>Rest in Peace Ed McMahon</td>\n",
              "      <td>0</td>\n",
              "      <td>rest in peace ed mcmahon</td>\n",
              "    </tr>\n",
              "  </tbody>\n",
              "</table>\n",
              "</div>\n",
              "    <div class=\"colab-df-buttons\">\n",
              "\n",
              "  <div class=\"colab-df-container\">\n",
              "    <button class=\"colab-df-convert\" onclick=\"convertToInteractive('df-761eeee7-0a85-4509-8546-bf564149a728')\"\n",
              "            title=\"Convert this dataframe to an interactive table.\"\n",
              "            style=\"display:none;\">\n",
              "\n",
              "  <svg xmlns=\"http://www.w3.org/2000/svg\" height=\"24px\" viewBox=\"0 -960 960 960\">\n",
              "    <path d=\"M120-120v-720h720v720H120Zm60-500h600v-160H180v160Zm220 220h160v-160H400v160Zm0 220h160v-160H400v160ZM180-400h160v-160H180v160Zm440 0h160v-160H620v160ZM180-180h160v-160H180v160Zm440 0h160v-160H620v160Z\"/>\n",
              "  </svg>\n",
              "    </button>\n",
              "\n",
              "  <style>\n",
              "    .colab-df-container {\n",
              "      display:flex;\n",
              "      gap: 12px;\n",
              "    }\n",
              "\n",
              "    .colab-df-convert {\n",
              "      background-color: #E8F0FE;\n",
              "      border: none;\n",
              "      border-radius: 50%;\n",
              "      cursor: pointer;\n",
              "      display: none;\n",
              "      fill: #1967D2;\n",
              "      height: 32px;\n",
              "      padding: 0 0 0 0;\n",
              "      width: 32px;\n",
              "    }\n",
              "\n",
              "    .colab-df-convert:hover {\n",
              "      background-color: #E2EBFA;\n",
              "      box-shadow: 0px 1px 2px rgba(60, 64, 67, 0.3), 0px 1px 3px 1px rgba(60, 64, 67, 0.15);\n",
              "      fill: #174EA6;\n",
              "    }\n",
              "\n",
              "    .colab-df-buttons div {\n",
              "      margin-bottom: 4px;\n",
              "    }\n",
              "\n",
              "    [theme=dark] .colab-df-convert {\n",
              "      background-color: #3B4455;\n",
              "      fill: #D2E3FC;\n",
              "    }\n",
              "\n",
              "    [theme=dark] .colab-df-convert:hover {\n",
              "      background-color: #434B5C;\n",
              "      box-shadow: 0px 1px 3px 1px rgba(0, 0, 0, 0.15);\n",
              "      filter: drop-shadow(0px 1px 2px rgba(0, 0, 0, 0.3));\n",
              "      fill: #FFFFFF;\n",
              "    }\n",
              "  </style>\n",
              "\n",
              "    <script>\n",
              "      const buttonEl =\n",
              "        document.querySelector('#df-761eeee7-0a85-4509-8546-bf564149a728 button.colab-df-convert');\n",
              "      buttonEl.style.display =\n",
              "        google.colab.kernel.accessAllowed ? 'block' : 'none';\n",
              "\n",
              "      async function convertToInteractive(key) {\n",
              "        const element = document.querySelector('#df-761eeee7-0a85-4509-8546-bf564149a728');\n",
              "        const dataTable =\n",
              "          await google.colab.kernel.invokeFunction('convertToInteractive',\n",
              "                                                    [key], {});\n",
              "        if (!dataTable) return;\n",
              "\n",
              "        const docLinkHtml = 'Like what you see? Visit the ' +\n",
              "          '<a target=\"_blank\" href=https://colab.research.google.com/notebooks/data_table.ipynb>data table notebook</a>'\n",
              "          + ' to learn more about interactive tables.';\n",
              "        element.innerHTML = '';\n",
              "        dataTable['output_type'] = 'display_data';\n",
              "        await google.colab.output.renderOutput(dataTable, element);\n",
              "        const docLink = document.createElement('div');\n",
              "        docLink.innerHTML = docLinkHtml;\n",
              "        element.appendChild(docLink);\n",
              "      }\n",
              "    </script>\n",
              "  </div>\n",
              "\n",
              "\n",
              "<div id=\"df-613066be-2964-4ab6-8543-d41ed8f2139c\">\n",
              "  <button class=\"colab-df-quickchart\" onclick=\"quickchart('df-613066be-2964-4ab6-8543-d41ed8f2139c')\"\n",
              "            title=\"Suggest charts\"\n",
              "            style=\"display:none;\">\n",
              "\n",
              "<svg xmlns=\"http://www.w3.org/2000/svg\" height=\"24px\"viewBox=\"0 0 24 24\"\n",
              "     width=\"24px\">\n",
              "    <g>\n",
              "        <path d=\"M19 3H5c-1.1 0-2 .9-2 2v14c0 1.1.9 2 2 2h14c1.1 0 2-.9 2-2V5c0-1.1-.9-2-2-2zM9 17H7v-7h2v7zm4 0h-2V7h2v10zm4 0h-2v-4h2v4z\"/>\n",
              "    </g>\n",
              "</svg>\n",
              "  </button>\n",
              "\n",
              "<style>\n",
              "  .colab-df-quickchart {\n",
              "      --bg-color: #E8F0FE;\n",
              "      --fill-color: #1967D2;\n",
              "      --hover-bg-color: #E2EBFA;\n",
              "      --hover-fill-color: #174EA6;\n",
              "      --disabled-fill-color: #AAA;\n",
              "      --disabled-bg-color: #DDD;\n",
              "  }\n",
              "\n",
              "  [theme=dark] .colab-df-quickchart {\n",
              "      --bg-color: #3B4455;\n",
              "      --fill-color: #D2E3FC;\n",
              "      --hover-bg-color: #434B5C;\n",
              "      --hover-fill-color: #FFFFFF;\n",
              "      --disabled-bg-color: #3B4455;\n",
              "      --disabled-fill-color: #666;\n",
              "  }\n",
              "\n",
              "  .colab-df-quickchart {\n",
              "    background-color: var(--bg-color);\n",
              "    border: none;\n",
              "    border-radius: 50%;\n",
              "    cursor: pointer;\n",
              "    display: none;\n",
              "    fill: var(--fill-color);\n",
              "    height: 32px;\n",
              "    padding: 0;\n",
              "    width: 32px;\n",
              "  }\n",
              "\n",
              "  .colab-df-quickchart:hover {\n",
              "    background-color: var(--hover-bg-color);\n",
              "    box-shadow: 0 1px 2px rgba(60, 64, 67, 0.3), 0 1px 3px 1px rgba(60, 64, 67, 0.15);\n",
              "    fill: var(--button-hover-fill-color);\n",
              "  }\n",
              "\n",
              "  .colab-df-quickchart-complete:disabled,\n",
              "  .colab-df-quickchart-complete:disabled:hover {\n",
              "    background-color: var(--disabled-bg-color);\n",
              "    fill: var(--disabled-fill-color);\n",
              "    box-shadow: none;\n",
              "  }\n",
              "\n",
              "  .colab-df-spinner {\n",
              "    border: 2px solid var(--fill-color);\n",
              "    border-color: transparent;\n",
              "    border-bottom-color: var(--fill-color);\n",
              "    animation:\n",
              "      spin 1s steps(1) infinite;\n",
              "  }\n",
              "\n",
              "  @keyframes spin {\n",
              "    0% {\n",
              "      border-color: transparent;\n",
              "      border-bottom-color: var(--fill-color);\n",
              "      border-left-color: var(--fill-color);\n",
              "    }\n",
              "    20% {\n",
              "      border-color: transparent;\n",
              "      border-left-color: var(--fill-color);\n",
              "      border-top-color: var(--fill-color);\n",
              "    }\n",
              "    30% {\n",
              "      border-color: transparent;\n",
              "      border-left-color: var(--fill-color);\n",
              "      border-top-color: var(--fill-color);\n",
              "      border-right-color: var(--fill-color);\n",
              "    }\n",
              "    40% {\n",
              "      border-color: transparent;\n",
              "      border-right-color: var(--fill-color);\n",
              "      border-top-color: var(--fill-color);\n",
              "    }\n",
              "    60% {\n",
              "      border-color: transparent;\n",
              "      border-right-color: var(--fill-color);\n",
              "    }\n",
              "    80% {\n",
              "      border-color: transparent;\n",
              "      border-right-color: var(--fill-color);\n",
              "      border-bottom-color: var(--fill-color);\n",
              "    }\n",
              "    90% {\n",
              "      border-color: transparent;\n",
              "      border-bottom-color: var(--fill-color);\n",
              "    }\n",
              "  }\n",
              "</style>\n",
              "\n",
              "  <script>\n",
              "    async function quickchart(key) {\n",
              "      const quickchartButtonEl =\n",
              "        document.querySelector('#' + key + ' button');\n",
              "      quickchartButtonEl.disabled = true;  // To prevent multiple clicks.\n",
              "      quickchartButtonEl.classList.add('colab-df-spinner');\n",
              "      try {\n",
              "        const charts = await google.colab.kernel.invokeFunction(\n",
              "            'suggestCharts', [key], {});\n",
              "      } catch (error) {\n",
              "        console.error('Error during call to suggestCharts:', error);\n",
              "      }\n",
              "      quickchartButtonEl.classList.remove('colab-df-spinner');\n",
              "      quickchartButtonEl.classList.add('colab-df-quickchart-complete');\n",
              "    }\n",
              "    (() => {\n",
              "      let quickchartButtonEl =\n",
              "        document.querySelector('#df-613066be-2964-4ab6-8543-d41ed8f2139c button');\n",
              "      quickchartButtonEl.style.display =\n",
              "        google.colab.kernel.accessAllowed ? 'block' : 'none';\n",
              "    })();\n",
              "  </script>\n",
              "</div>\n",
              "\n",
              "    </div>\n",
              "  </div>\n"
            ],
            "application/vnd.google.colaboratory.intrinsic+json": {
              "type": "dataframe",
              "variable_name": "train",
              "summary": "{\n  \"name\": \"train\",\n  \"rows\": 70000,\n  \"fields\": [\n    {\n      \"column\": \"ID\",\n      \"properties\": {\n        \"dtype\": \"number\",\n        \"std\": 461289,\n        \"min\": 5,\n        \"max\": 1599943,\n        \"num_unique_values\": 70000,\n        \"samples\": [\n          1212900,\n          686910,\n          371977\n        ],\n        \"semantic_type\": \"\",\n        \"description\": \"\"\n      }\n    },\n    {\n      \"column\": \"text\",\n      \"properties\": {\n        \"dtype\": \"string\",\n        \"num_unique_values\": 69856,\n        \"samples\": [\n          \"off for a BBQ this aft! \",\n          \"draggin out 20 minutes so i can have a full 3 hrs OT \",\n          \"#FollowFriday Lovely people @_santi @Emperor_Richard @Tazz602 @Xavierism @HedleyZafer @CRAGGSC thank u guys LOL \"\n        ],\n        \"semantic_type\": \"\",\n        \"description\": \"\"\n      }\n    },\n    {\n      \"column\": \"target\",\n      \"properties\": {\n        \"dtype\": \"number\",\n        \"std\": 2,\n        \"min\": 0,\n        \"max\": 4,\n        \"num_unique_values\": 2,\n        \"samples\": [\n          0,\n          4\n        ],\n        \"semantic_type\": \"\",\n        \"description\": \"\"\n      }\n    },\n    {\n      \"column\": \"text_clean\",\n      \"properties\": {\n        \"dtype\": \"string\",\n        \"num_unique_values\": 69597,\n        \"samples\": [\n          \"so someone totally ran into the back of me this morningnow my back hurts \",\n          \"quirkytrinkets im still confused by this but will get there \"\n        ],\n        \"semantic_type\": \"\",\n        \"description\": \"\"\n      }\n    }\n  ]\n}"
            }
          },
          "metadata": {},
          "execution_count": 17
        }
      ]
    },
    {
      "cell_type": "code",
      "source": [],
      "metadata": {
        "id": "-tWojVTFBWPZ"
      },
      "execution_count": null,
      "outputs": []
    },
    {
      "cell_type": "markdown",
      "source": [],
      "metadata": {
        "id": "sxMwjJv4_aof"
      }
    },
    {
      "cell_type": "code",
      "source": [
        "X_train, y_train = train['text'], train['target']"
      ],
      "metadata": {
        "execution": {
          "iopub.status.busy": "2024-04-15T21:18:53.14115Z",
          "iopub.execute_input": "2024-04-15T21:18:53.14148Z",
          "iopub.status.idle": "2024-04-15T21:18:53.148511Z",
          "shell.execute_reply.started": "2024-04-15T21:18:53.141452Z",
          "shell.execute_reply": "2024-04-15T21:18:53.147292Z"
        },
        "trusted": true,
        "id": "DbrAgerk7Qjt"
      },
      "execution_count": null,
      "outputs": []
    },
    {
      "cell_type": "code",
      "source": [
        "from sklearn.feature_extraction.text import CountVectorizer"
      ],
      "metadata": {
        "execution": {
          "iopub.status.busy": "2024-04-15T21:18:53.150117Z",
          "iopub.execute_input": "2024-04-15T21:18:53.150483Z",
          "iopub.status.idle": "2024-04-15T21:18:54.434249Z",
          "shell.execute_reply.started": "2024-04-15T21:18:53.150442Z",
          "shell.execute_reply": "2024-04-15T21:18:54.433013Z"
        },
        "trusted": true,
        "id": "5K1cjlx77Qjw"
      },
      "execution_count": null,
      "outputs": []
    },
    {
      "cell_type": "code",
      "source": [
        "vectorizer = CountVectorizer()\n",
        "X_vectorized = vectorizer.fit_transform(X_train)"
      ],
      "metadata": {
        "execution": {
          "iopub.status.busy": "2024-04-15T21:18:54.435759Z",
          "iopub.execute_input": "2024-04-15T21:18:54.43611Z",
          "iopub.status.idle": "2024-04-15T21:18:55.862609Z",
          "shell.execute_reply.started": "2024-04-15T21:18:54.43608Z",
          "shell.execute_reply": "2024-04-15T21:18:55.861296Z"
        },
        "trusted": true,
        "id": "3us4XiMa7Qj1"
      },
      "execution_count": null,
      "outputs": []
    },
    {
      "cell_type": "code",
      "source": [
        "X_vectorized"
      ],
      "metadata": {
        "execution": {
          "iopub.status.busy": "2024-04-15T21:18:55.864118Z",
          "iopub.execute_input": "2024-04-15T21:18:55.864495Z",
          "iopub.status.idle": "2024-04-15T21:18:55.872707Z",
          "shell.execute_reply.started": "2024-04-15T21:18:55.864464Z",
          "shell.execute_reply": "2024-04-15T21:18:55.871599Z"
        },
        "trusted": true,
        "id": "7jXHfU-z7Qj5"
      },
      "execution_count": null,
      "outputs": []
    },
    {
      "cell_type": "code",
      "source": [
        "from sklearn.naive_bayes import MultinomialNB"
      ],
      "metadata": {
        "execution": {
          "iopub.status.busy": "2024-04-15T21:18:55.874156Z",
          "iopub.execute_input": "2024-04-15T21:18:55.874942Z",
          "iopub.status.idle": "2024-04-15T21:18:55.882349Z",
          "shell.execute_reply.started": "2024-04-15T21:18:55.87491Z",
          "shell.execute_reply": "2024-04-15T21:18:55.88159Z"
        },
        "trusted": true,
        "id": "Vz-rqFip7Qj7"
      },
      "execution_count": null,
      "outputs": []
    },
    {
      "cell_type": "code",
      "source": [
        "nb_model = MultinomialNB()\n",
        "nb_model.fit(X_vectorized, y_train)"
      ],
      "metadata": {
        "execution": {
          "iopub.status.busy": "2024-04-15T21:18:55.883413Z",
          "iopub.execute_input": "2024-04-15T21:18:55.884132Z",
          "iopub.status.idle": "2024-04-15T21:18:55.925682Z",
          "shell.execute_reply.started": "2024-04-15T21:18:55.884103Z",
          "shell.execute_reply": "2024-04-15T21:18:55.924408Z"
        },
        "trusted": true,
        "id": "HG8CuFhw7Qj-"
      },
      "execution_count": null,
      "outputs": []
    },
    {
      "cell_type": "code",
      "source": [
        "X_test = pd.read_csv('/kaggle/input/enap-anlise-de-sentimentos/test.csv', index_col=0)"
      ],
      "metadata": {
        "execution": {
          "iopub.status.busy": "2024-04-15T21:18:55.930207Z",
          "iopub.execute_input": "2024-04-15T21:18:55.931018Z",
          "iopub.status.idle": "2024-04-15T21:18:56.023139Z",
          "shell.execute_reply.started": "2024-04-15T21:18:55.930971Z",
          "shell.execute_reply": "2024-04-15T21:18:56.021983Z"
        },
        "trusted": true,
        "id": "b6f1vFOa7Qj_"
      },
      "execution_count": null,
      "outputs": []
    },
    {
      "cell_type": "code",
      "source": [
        "X_test = X_test['text']"
      ],
      "metadata": {
        "execution": {
          "iopub.status.busy": "2024-04-15T21:18:56.025655Z",
          "iopub.execute_input": "2024-04-15T21:18:56.026544Z",
          "iopub.status.idle": "2024-04-15T21:18:56.031999Z",
          "shell.execute_reply.started": "2024-04-15T21:18:56.026506Z",
          "shell.execute_reply": "2024-04-15T21:18:56.031017Z"
        },
        "trusted": true,
        "id": "_6DVans37QkA"
      },
      "execution_count": null,
      "outputs": []
    },
    {
      "cell_type": "code",
      "source": [
        "X_vectorized = vectorizer.transform(X_test)"
      ],
      "metadata": {
        "execution": {
          "iopub.status.busy": "2024-04-15T21:18:56.033486Z",
          "iopub.execute_input": "2024-04-15T21:18:56.034001Z",
          "iopub.status.idle": "2024-04-15T21:18:56.490724Z",
          "shell.execute_reply.started": "2024-04-15T21:18:56.033969Z",
          "shell.execute_reply": "2024-04-15T21:18:56.489609Z"
        },
        "trusted": true,
        "id": "TxDhWWIh7QkB"
      },
      "execution_count": null,
      "outputs": []
    },
    {
      "cell_type": "code",
      "source": [
        "X_vectorized"
      ],
      "metadata": {
        "execution": {
          "iopub.status.busy": "2024-04-15T21:18:56.492248Z",
          "iopub.execute_input": "2024-04-15T21:18:56.492656Z",
          "iopub.status.idle": "2024-04-15T21:18:56.499351Z",
          "shell.execute_reply.started": "2024-04-15T21:18:56.492624Z",
          "shell.execute_reply": "2024-04-15T21:18:56.498586Z"
        },
        "trusted": true,
        "id": "1JT1KI9N7QkC"
      },
      "execution_count": null,
      "outputs": []
    },
    {
      "cell_type": "code",
      "source": [
        "y_pred = nb_model.predict(X_vectorized)"
      ],
      "metadata": {
        "execution": {
          "iopub.status.busy": "2024-04-15T21:18:56.500536Z",
          "iopub.execute_input": "2024-04-15T21:18:56.50109Z",
          "iopub.status.idle": "2024-04-15T21:18:56.517989Z",
          "shell.execute_reply.started": "2024-04-15T21:18:56.501059Z",
          "shell.execute_reply": "2024-04-15T21:18:56.516966Z"
        },
        "trusted": true,
        "id": "yqwwvoQE7QkD"
      },
      "execution_count": null,
      "outputs": []
    },
    {
      "cell_type": "code",
      "source": [
        "y_pred"
      ],
      "metadata": {
        "execution": {
          "iopub.status.busy": "2024-04-15T21:18:56.519604Z",
          "iopub.execute_input": "2024-04-15T21:18:56.520062Z",
          "iopub.status.idle": "2024-04-15T21:18:56.528228Z",
          "shell.execute_reply.started": "2024-04-15T21:18:56.520021Z",
          "shell.execute_reply": "2024-04-15T21:18:56.526847Z"
        },
        "trusted": true,
        "id": "SBWiKDAp7QkE"
      },
      "execution_count": null,
      "outputs": []
    },
    {
      "cell_type": "code",
      "source": [
        "pred = pd.DataFrame({'target': y_pred}, index=X_test.index)\n",
        "\n",
        "print(pred)"
      ],
      "metadata": {
        "execution": {
          "iopub.status.busy": "2024-04-15T21:35:03.515867Z",
          "iopub.execute_input": "2024-04-15T21:35:03.516351Z",
          "iopub.status.idle": "2024-04-15T21:35:03.529609Z",
          "shell.execute_reply.started": "2024-04-15T21:35:03.516319Z",
          "shell.execute_reply": "2024-04-15T21:35:03.528027Z"
        },
        "trusted": true,
        "id": "ZIWMFtFQ7QkG"
      },
      "execution_count": null,
      "outputs": []
    },
    {
      "cell_type": "code",
      "source": [
        "pred.to_csv('/kaggle/working/submission.csv')"
      ],
      "metadata": {
        "execution": {
          "iopub.status.busy": "2024-04-15T21:18:56.540309Z",
          "iopub.execute_input": "2024-04-15T21:18:56.540719Z",
          "iopub.status.idle": "2024-04-15T21:18:56.582014Z",
          "shell.execute_reply.started": "2024-04-15T21:18:56.540689Z",
          "shell.execute_reply": "2024-04-15T21:18:56.580712Z"
        },
        "trusted": true,
        "id": "wYqOpg7_7QkI"
      },
      "execution_count": null,
      "outputs": []
    },
    {
      "cell_type": "code",
      "source": [],
      "metadata": {
        "id": "qiPI_-uG7QkN"
      },
      "execution_count": null,
      "outputs": []
    }
  ]
}
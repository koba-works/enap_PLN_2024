{
 "cells": [
  {
   "cell_type": "markdown",
   "id": "53ff9966-a44a-4dae-a001-2f6709e00338",
   "metadata": {},
   "source": [
    "# Modelos do Hugging Face "
   ]
  },
  {
   "cell_type": "code",
   "execution_count": 1,
   "id": "4bdbab78-ad95-4aa0-a66b-b51c211c2c23",
   "metadata": {},
   "outputs": [],
   "source": [
    "import random\n",
    "import numpy as np\n",
    "import pandas as pd"
   ]
  },
  {
   "cell_type": "code",
   "execution_count": 2,
   "id": "6a2c0dc0-e6f4-4bc1-993d-76494362a3df",
   "metadata": {},
   "outputs": [],
   "source": [
    "random.seed(42)"
   ]
  },
  {
   "cell_type": "code",
   "execution_count": 3,
   "id": "fa6db316-8360-4612-bd74-56ab040cffd2",
   "metadata": {},
   "outputs": [],
   "source": [
    "train = pd.read_csv('train.csv', index_col=0)\n",
    "X_train, y_train = train['text'], train['target']"
   ]
  },
  {
   "cell_type": "code",
   "execution_count": 4,
   "id": "b32d6cd2-f8e2-4794-90f4-83e3ca85f63d",
   "metadata": {},
   "outputs": [],
   "source": [
    "test = pd.read_csv('test.csv', index_col=0)\n",
    "X_test = test['text']"
   ]
  },
  {
   "cell_type": "markdown",
   "id": "142c4495-c3d6-411b-a33e-a8053fd4a5dc",
   "metadata": {},
   "source": [
    "## Usando Pipeline"
   ]
  },
  {
   "cell_type": "code",
   "execution_count": 5,
   "id": "99f7c8b9-db7e-4018-91c6-01a0f12f5fb1",
   "metadata": {},
   "outputs": [],
   "source": [
    "!pip install -q transformers"
   ]
  },
  {
   "cell_type": "code",
   "execution_count": 6,
   "id": "9605a010-d60e-4af4-8bf7-03db48643aa5",
   "metadata": {},
   "outputs": [
    {
     "name": "stderr",
     "output_type": "stream",
     "text": [
      "2024-04-07 18:12:27.678167: I tensorflow/core/platform/cpu_feature_guard.cc:210] This TensorFlow binary is optimized to use available CPU instructions in performance-critical operations.\n",
      "To enable the following instructions: AVX2 FMA, in other operations, rebuild TensorFlow with the appropriate compiler flags.\n",
      "2024-04-07 18:12:28.165561: W tensorflow/compiler/tf2tensorrt/utils/py_utils.cc:38] TF-TRT Warning: Could not find TensorRT\n"
     ]
    }
   ],
   "source": [
    "from transformers import pipeline"
   ]
  },
  {
   "cell_type": "code",
   "execution_count": 7,
   "id": "e4c185dd-bec6-4710-8e9e-e605f190e5c8",
   "metadata": {},
   "outputs": [
    {
     "name": "stderr",
     "output_type": "stream",
     "text": [
      "No model was supplied, defaulted to distilbert/distilbert-base-uncased-finetuned-sst-2-english and revision af0f99b (https://huggingface.co/distilbert/distilbert-base-uncased-finetuned-sst-2-english).\n",
      "Using a pipeline without specifying a model name and revision in production is not recommended.\n"
     ]
    }
   ],
   "source": [
    "sentiment = pipeline(\"sentiment-analysis\")"
   ]
  },
  {
   "cell_type": "code",
   "execution_count": 8,
   "id": "05da93a7-daa7-4f57-aad4-b20f1fb47f17",
   "metadata": {},
   "outputs": [],
   "source": [
    "y_pred = sentiment(X_test.to_list())"
   ]
  },
  {
   "cell_type": "code",
   "execution_count": 9,
   "id": "013bb0cf-d93d-45d1-a488-bbcccb032f22",
   "metadata": {},
   "outputs": [],
   "source": [
    "y_pred = [0 if i['label'] == 'NEGATIVE' else 4 for i in y_pred]"
   ]
  },
  {
   "cell_type": "code",
   "execution_count": 10,
   "id": "ffef9e42-7876-445f-8df2-bf5688e10a1b",
   "metadata": {},
   "outputs": [],
   "source": [
    "pred = pd.DataFrame({'target': y_pred}, index=X_test.index)"
   ]
  },
  {
   "cell_type": "code",
   "execution_count": 11,
   "id": "409ac888-0b5a-41da-963c-f5f67e906fc3",
   "metadata": {},
   "outputs": [],
   "source": [
    "pred.to_csv('pipeline-pred.csv')"
   ]
  },
  {
   "cell_type": "markdown",
   "id": "b17465a0-407f-4ccc-984b-410c2fe2092a",
   "metadata": {},
   "source": [
    "## Usando AutoModel"
   ]
  },
  {
   "cell_type": "code",
   "execution_count": 12,
   "id": "e7feb663-7bfc-4430-b495-7d5bdec6b6d2",
   "metadata": {},
   "outputs": [],
   "source": [
    "from transformers import AutoModelForSequenceClassification, AutoTokenizer"
   ]
  },
  {
   "cell_type": "code",
   "execution_count": 13,
   "id": "78099d38-c0b5-4754-b217-c25515c7e3d4",
   "metadata": {},
   "outputs": [],
   "source": [
    "model_name = 'Seethal/sentiment_analysis_generic_dataset'"
   ]
  },
  {
   "cell_type": "code",
   "execution_count": 14,
   "id": "52341cab-16b2-4417-a6d8-297b5bde88d0",
   "metadata": {},
   "outputs": [],
   "source": [
    "tokenizer = AutoTokenizer.from_pretrained(model_name)\n",
    "model = AutoModelForSequenceClassification.from_pretrained(model_name)"
   ]
  },
  {
   "cell_type": "code",
   "execution_count": 15,
   "id": "da7120af-a61b-41e3-b1bb-b75255b603a2",
   "metadata": {},
   "outputs": [],
   "source": [
    "pred = []X_train, X_val, y_train, y_val = train_test_split(X_train, y_train, test_size=0.2, random_state=42)\n",
    "for i in X_test.to_list():\n",
    "    sample = tokenizer(i, padding=True, return_tensors=\"pt\", truncation=True)\n",
    "    outputs = model(**sample)\n",
    "    pred.append(outputs.logits.argmax().tolist())"
   ]
  },
  {
   "cell_type": "code",
   "execution_count": 16,
   "id": "d526b580-1516-4558-bc91-8f9c8f3e84d1",
   "metadata": {},
   "outputs": [],
   "source": [
    "y_pred = [4 if i == 1 else 0 for i in pred]"
   ]
  },
  {
   "cell_type": "code",
   "execution_count": 17,
   "id": "2a63764b-dea7-44d3-868e-772dd3f44c5e",
   "metadata": {},
   "outputs": [],
   "source": [
    "pred = pd.DataFrame({'target': y_pred}, index=X_test.index)"
   ]
  },
  {
   "cell_type": "code",
   "execution_count": 18,
   "id": "00d0337b-3e3e-4bc5-b9b0-d79297b94371",
   "metadata": {},
   "outputs": [],
   "source": [
    "pred.to_csv('automodel-pred.csv')"
   ]
  },
  {
   "cell_type": "markdown",
   "id": "c7741882-2184-419c-880b-61a135976acf",
   "metadata": {},
   "source": [
    "## Fazendo o Fine-tuning de um AutoModel"
   ]
  },
  {
   "cell_type": "code",
   "execution_count": 19,
   "id": "397f1c47-a344-4b4e-8a5d-6022aa3f53c7",
   "metadata": {},
   "outputs": [],
   "source": [
    "from sklearn.model_selection import train_test_split\n",
    "from datasets import DatasetDict, Dataset"
   ]
  },
  {
   "cell_type": "code",
   "execution_count": 20,
   "id": "18ba1107-9849-4a60-ab3c-8fd46de7fe49",
   "metadata": {},
   "outputs": [],
   "source": [
    "X_train, X_val, y_train, y_val = train_test_split(X_train, y_train, test_size=0.2, random_state=42)"
   ]
  },
  {
   "cell_type": "code",
   "execution_count": 21,
   "id": "6b767699-e071-4785-8355-bdbec86f4366",
   "metadata": {},
   "outputs": [],
   "source": [
    "y_train = [1 if i == 4 else 0 for i in y_train.to_list()]\n",
    "y_val = [1 if i == 4 else 0 for i in y_val.to_list()]"
   ]
  },
  {
   "cell_type": "code",
   "execution_count": 22,
   "id": "0f908e40-68c4-4304-9f5a-ad0e38497aa1",
   "metadata": {},
   "outputs": [],
   "source": [
    "df_train = pd.DataFrame({\"text\": X_train.to_list(), \"label\": y_train})\n",
    "df_val = pd.DataFrame({\"text\": X_val.to_list(), \"label\": y_val})\n",
    "df_test = pd.DataFrame({\"text\": X_test.to_list()})"
   ]
  },
  {
   "cell_type": "code",
   "execution_count": 23,
   "id": "d344d9c4-5164-40c7-8ac5-f9e03a51bbe8",
   "metadata": {},
   "outputs": [],
   "source": [
    "dataset_train = Dataset.from_pandas(df_train)\n",
    "dataset_val = Dataset.from_pandas(df_val)\n",
    "dataset_test = Dataset.from_pandas(df_test)"
   ]
  },
  {
   "cell_type": "code",
   "execution_count": 24,
   "id": "960cdb29-2e8b-44ac-88b1-e63646854d6a",
   "metadata": {},
   "outputs": [],
   "source": [
    "datasets = DatasetDict({'train': dataset_train, 'val': dataset_val, 'test':dataset_test})"
   ]
  },
  {
   "cell_type": "code",
   "execution_count": 25,
   "id": "3ca453dd-01b3-41b6-a4b0-e0c1a76db55f",
   "metadata": {},
   "outputs": [],
   "source": [
    "from transformers import AutoModelForSequenceClassification, AutoTokenizer"
   ]
  },
  {
   "cell_type": "code",
   "execution_count": 26,
   "id": "f427cc33-158a-414d-9409-abe9c5597143",
   "metadata": {},
   "outputs": [
    {
     "name": "stderr",
     "output_type": "stream",
     "text": [
      "Some weights of BertForSequenceClassification were not initialized from the model checkpoint at google-bert/bert-base-cased and are newly initialized: ['classifier.bias', 'classifier.weight']\n",
      "You should probably TRAIN this model on a down-stream task to be able to use it for predictions and inference.\n"
     ]
    }
   ],
   "source": [
    "tokenizer = AutoTokenizer.from_pretrained(\"google-bert/bert-base-cased\")\n",
    "model = AutoModelForSequenceClassification.from_pretrained(\"google-bert/bert-base-cased\", num_labels=2)"
   ]
  },
  {
   "cell_type": "code",
   "execution_count": 27,
   "id": "1825f500-4417-4edf-878d-adfd1b91a727",
   "metadata": {},
   "outputs": [],
   "source": [
    "def tokenize_function(examples):\n",
    "    return tokenizer(examples[\"text\"], padding='max_length', truncation=True, max_length=80, return_tensors=\"pt\")"
   ]
  },
  {
   "cell_type": "code",
   "execution_count": 28,
   "id": "40bcbb9b-3da0-4732-9869-0029dddf43ec",
   "metadata": {},
   "outputs": [
    {
     "data": {
      "application/vnd.jupyter.widget-view+json": {
       "model_id": "9dfafa1a9ef84ba0aed5be37a91035ea",
       "version_major": 2,
       "version_minor": 0
      },
      "text/plain": [
       "Map:   0%|          | 0/56000 [00:00<?, ? examples/s]"
      ]
     },
     "metadata": {},
     "output_type": "display_data"
    },
    {
     "data": {
      "application/vnd.jupyter.widget-view+json": {
       "model_id": "e99a8fe00a704584b689ba5ef65c86b9",
       "version_major": 2,
       "version_minor": 0
      },
      "text/plain": [
       "Map:   0%|          | 0/14000 [00:00<?, ? examples/s]"
      ]
     },
     "metadata": {},
     "output_type": "display_data"
    },
    {
     "data": {
      "application/vnd.jupyter.widget-view+json": {
       "model_id": "d92d5bdbb9544fdaacbfa58da4900003",
       "version_major": 2,
       "version_minor": 0
      },
      "text/plain": [
       "Map:   0%|          | 0/30000 [00:00<?, ? examples/s]"
      ]
     },
     "metadata": {},
     "output_type": "display_data"
    }
   ],
   "source": [
    "tokenized_datasets = datasets.map(tokenize_function, batched=True)"
   ]
  },
  {
   "cell_type": "code",
   "execution_count": 29,
   "id": "9f28141c-2257-4a3b-86a2-e09b4d6cf77b",
   "metadata": {},
   "outputs": [],
   "source": [
    "small_train_dataset = tokenized_datasets[\"train\"].shuffle(seed=42).select(range(1000))"
   ]
  },
  {
   "cell_type": "code",
   "execution_count": 30,
   "id": "21ba7c88-e534-4d94-9c18-2cc89b1028ea",
   "metadata": {},
   "outputs": [],
   "source": [
    "!pip install -q evaluate"
   ]
  },
  {
   "cell_type": "code",
   "execution_count": 31,
   "id": "3fbad4be-d1bb-4574-a8a2-c8e869a68af5",
   "metadata": {},
   "outputs": [],
   "source": [
    "import evaluate"
   ]
  },
  {
   "cell_type": "code",
   "execution_count": 32,
   "id": "2081af7b-cf8c-43aa-ab88-1da6548cc9dc",
   "metadata": {},
   "outputs": [],
   "source": [
    "metric = evaluate.load(\"accuracy\")"
   ]
  },
  {
   "cell_type": "code",
   "execution_count": 33,
   "id": "4e120647-e25f-4a4d-9c1f-3876672399df",
   "metadata": {},
   "outputs": [],
   "source": [
    "def compute_metrics(eval_pred):\n",
    "    logits, labels = eval_pred\n",
    "    predictions = np.argmax(logits, axis=-1)\n",
    "    return metric.compute(predictions=predictions, references=labels)"
   ]
  },
  {
   "cell_type": "code",
   "execution_count": 34,
   "id": "a1b118f3-de9b-4e0f-b6c3-235456168587",
   "metadata": {},
   "outputs": [],
   "source": [
    "from transformers import TrainingArguments, Trainer"
   ]
  },
  {
   "cell_type": "code",
   "execution_count": 35,
   "id": "d32c18ca-c9c8-4ce5-b8dc-6bac51972527",
   "metadata": {},
   "outputs": [
    {
     "name": "stderr",
     "output_type": "stream",
     "text": [
      "/home/lpfgarcia/miniconda3/envs/enap/lib/python3.11/site-packages/torch/cuda/__init__.py:141: UserWarning: CUDA initialization: The NVIDIA driver on your system is too old (found version 11040). Please update your GPU driver by downloading and installing a new version from the URL: http://www.nvidia.com/Download/index.aspx Alternatively, go to: https://pytorch.org to install a PyTorch version that has been compiled with your version of the CUDA driver. (Triggered internally at ../c10/cuda/CUDAFunctions.cpp:108.)\n",
      "  return torch._C._cuda_getDeviceCount() > 0\n"
     ]
    }
   ],
   "source": [
    "training_args = TrainingArguments(output_dir=\"test_trainer\", evaluation_strategy=\"epoch\")"
   ]
  },
  {
   "cell_type": "code",
   "execution_count": 36,
   "id": "a08fb1e7-69e3-4ace-8d7f-461d0f1a3316",
   "metadata": {},
   "outputs": [
    {
     "name": "stderr",
     "output_type": "stream",
     "text": [
      "/home/lpfgarcia/miniconda3/envs/enap/lib/python3.11/site-packages/accelerate/accelerator.py:436: FutureWarning: Passing the following arguments to `Accelerator` is deprecated and will be removed in version 1.0 of Accelerate: dict_keys(['dispatch_batches', 'split_batches', 'even_batches', 'use_seedable_sampler']). Please pass an `accelerate.DataLoaderConfiguration` instead: \n",
      "dataloader_config = DataLoaderConfiguration(dispatch_batches=None, split_batches=False, even_batches=True, use_seedable_sampler=True)\n",
      "  warnings.warn(\n"
     ]
    }
   ],
   "source": [
    "trainer = Trainer(\n",
    "    model=model,\n",
    "    args=training_args,\n",
    "    train_dataset=small_train_dataset,\n",
    "    eval_dataset=tokenized_datasets[\"val\"],\n",
    "    compute_metrics=compute_metrics,\n",
    ")"
   ]
  },
  {
   "cell_type": "code",
   "execution_count": 37,
   "id": "e5191399-2474-4470-aed4-9f70578090cf",
   "metadata": {},
   "outputs": [
    {
     "data": {
      "text/html": [
       "\n",
       "    <div>\n",
       "      \n",
       "      <progress value='375' max='375' style='width:300px; height:20px; vertical-align: middle;'></progress>\n",
       "      [375/375 17:17, Epoch 3/3]\n",
       "    </div>\n",
       "    <table border=\"1\" class=\"dataframe\">\n",
       "  <thead>\n",
       " <tr style=\"text-align: left;\">\n",
       "      <th>Epoch</th>\n",
       "      <th>Training Loss</th>\n",
       "      <th>Validation Loss</th>\n",
       "      <th>Accuracy</th>\n",
       "    </tr>\n",
       "  </thead>\n",
       "  <tbody>\n",
       "    <tr>\n",
       "      <td>1</td>\n",
       "      <td>No log</td>\n",
       "      <td>0.526419</td>\n",
       "      <td>0.753571</td>\n",
       "    </tr>\n",
       "    <tr>\n",
       "      <td>2</td>\n",
       "      <td>No log</td>\n",
       "      <td>0.614517</td>\n",
       "      <td>0.764214</td>\n",
       "    </tr>\n",
       "    <tr>\n",
       "      <td>3</td>\n",
       "      <td>No log</td>\n",
       "      <td>0.845460</td>\n",
       "      <td>0.776214</td>\n",
       "    </tr>\n",
       "  </tbody>\n",
       "</table><p>"
      ],
      "text/plain": [
       "<IPython.core.display.HTML object>"
      ]
     },
     "metadata": {},
     "output_type": "display_data"
    },
    {
     "data": {
      "text/plain": [
       "TrainOutput(global_step=375, training_loss=0.4108604736328125, metrics={'train_runtime': 1038.4252, 'train_samples_per_second': 2.889, 'train_steps_per_second': 0.361, 'total_flos': 123333307200000.0, 'train_loss': 0.4108604736328125, 'epoch': 3.0})"
      ]
     },
     "execution_count": 37,
     "metadata": {},
     "output_type": "execute_result"
    }
   ],
   "source": [
    "trainer.train()"
   ]
  },
  {
   "cell_type": "code",
   "execution_count": 38,
   "id": "129d7c6b-a243-4eab-a692-f1562255c2b7",
   "metadata": {},
   "outputs": [
    {
     "data": {
      "text/html": [],
      "text/plain": [
       "<IPython.core.display.HTML object>"
      ]
     },
     "metadata": {},
     "output_type": "display_data"
    }
   ],
   "source": [
    "predictions = trainer.predict(tokenized_datasets[\"test\"])\n",
    "y_pred = predictions.predictions.argmax(axis=1)"
   ]
  },
  {
   "cell_type": "code",
   "execution_count": 39,
   "id": "e5882de6-d199-4141-893e-5a9ee1af965b",
   "metadata": {},
   "outputs": [],
   "source": [
    "y_pred = [4 if i == 1 else 0 for i in y_pred]"
   ]
  },
  {
   "cell_type": "code",
   "execution_count": 40,
   "id": "a64075b7-3dc7-46ee-89a5-f13a28bcad92",
   "metadata": {},
   "outputs": [],
   "source": [
    "pred = pd.DataFrame({'target': y_pred}, index=X_test.index)"
   ]
  },
  {
   "cell_type": "code",
   "execution_count": 41,
   "id": "74f6f30f-004c-45ea-96c3-c0a132adc034",
   "metadata": {},
   "outputs": [],
   "source": [
    "pred.to_csv('finetuning-pred.csv')"
   ]
  },
  {
   "cell_type": "code",
   "execution_count": null,
   "id": "483d9ad3-a848-49a8-9134-4cf5abdc482c",
   "metadata": {},
   "outputs": [],
   "source": []
  }
 ],
 "metadata": {
  "kernelspec": {
   "display_name": "Python 3 (ipykernel)",
   "language": "python",
   "name": "python3"
  },
  "language_info": {
   "codemirror_mode": {
    "name": "ipython",
    "version": 3
   },
   "file_extension": ".py",
   "mimetype": "text/x-python",
   "name": "python",
   "nbconvert_exporter": "python",
   "pygments_lexer": "ipython3",
   "version": "3.11.8"
  }
 },
 "nbformat": 4,
 "nbformat_minor": 5
}

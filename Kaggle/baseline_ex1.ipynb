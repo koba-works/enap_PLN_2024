{
 "cells": [
  {
   "cell_type": "markdown",
   "id": "f220167d",
   "metadata": {
    "papermill": {
     "duration": 0.008201,
     "end_time": "2024-04-15T22:13:55.690352",
     "exception": false,
     "start_time": "2024-04-15T22:13:55.682151",
     "status": "completed"
    },
    "tags": []
   },
   "source": [
    "# Exercício de Classificação de Análise de Sentimentos"
   ]
  },
  {
   "cell_type": "markdown",
   "id": "5619d3d9",
   "metadata": {
    "papermill": {
     "duration": 0.006777,
     "end_time": "2024-04-15T22:13:55.705077",
     "exception": false,
     "start_time": "2024-04-15T22:13:55.698300",
     "status": "completed"
    },
    "tags": []
   },
   "source": [
    "O objetivo do exercício é explorar técnicas de pré-processamento de texto, como remoção de stopwords, tokenização e stemming, além de aplicar técnicas de vetorização, como Bag of Words (BoW) e Term Frequency-Inverse Document Frequency (TF-IDF) para classificar a polaridade de tweets em positivas ou negativas."
   ]
  },
  {
   "cell_type": "code",
   "execution_count": 1,
   "id": "8882ddc2",
   "metadata": {
    "execution": {
     "iopub.execute_input": "2024-04-15T22:13:55.721648Z",
     "iopub.status.busy": "2024-04-15T22:13:55.720402Z",
     "iopub.status.idle": "2024-04-15T22:13:56.684009Z",
     "shell.execute_reply": "2024-04-15T22:13:56.682917Z"
    },
    "papermill": {
     "duration": 0.974842,
     "end_time": "2024-04-15T22:13:56.686885",
     "exception": false,
     "start_time": "2024-04-15T22:13:55.712043",
     "status": "completed"
    },
    "tags": []
   },
   "outputs": [],
   "source": [
    "import random\n",
    "import pandas as pd"
   ]
  },
  {
   "cell_type": "code",
   "execution_count": 2,
   "id": "a891a587",
   "metadata": {
    "execution": {
     "iopub.execute_input": "2024-04-15T22:13:56.702809Z",
     "iopub.status.busy": "2024-04-15T22:13:56.702302Z",
     "iopub.status.idle": "2024-04-15T22:13:56.708279Z",
     "shell.execute_reply": "2024-04-15T22:13:56.706997Z"
    },
    "papermill": {
     "duration": 0.017121,
     "end_time": "2024-04-15T22:13:56.711043",
     "exception": false,
     "start_time": "2024-04-15T22:13:56.693922",
     "status": "completed"
    },
    "tags": []
   },
   "outputs": [],
   "source": [
    "random.seed(42)"
   ]
  },
  {
   "cell_type": "code",
   "execution_count": 3,
   "id": "6149a679",
   "metadata": {
    "execution": {
     "iopub.execute_input": "2024-04-15T22:13:56.727006Z",
     "iopub.status.busy": "2024-04-15T22:13:56.726550Z",
     "iopub.status.idle": "2024-04-15T22:13:57.029936Z",
     "shell.execute_reply": "2024-04-15T22:13:57.028714Z"
    },
    "papermill": {
     "duration": 0.314938,
     "end_time": "2024-04-15T22:13:57.033114",
     "exception": false,
     "start_time": "2024-04-15T22:13:56.718176",
     "status": "completed"
    },
    "tags": []
   },
   "outputs": [],
   "source": [
    "train = pd.read_csv('/kaggle/input/enap-anlise-de-sentimentos/train.csv', index_col=0)"
   ]
  },
  {
   "cell_type": "code",
   "execution_count": 4,
   "id": "6773d4d6",
   "metadata": {
    "execution": {
     "iopub.execute_input": "2024-04-15T22:13:57.049077Z",
     "iopub.status.busy": "2024-04-15T22:13:57.048618Z",
     "iopub.status.idle": "2024-04-15T22:13:57.056716Z",
     "shell.execute_reply": "2024-04-15T22:13:57.054705Z"
    },
    "papermill": {
     "duration": 0.020013,
     "end_time": "2024-04-15T22:13:57.060118",
     "exception": false,
     "start_time": "2024-04-15T22:13:57.040105",
     "status": "completed"
    },
    "tags": []
   },
   "outputs": [],
   "source": [
    "X_train, y_train = train['text'], train['target']"
   ]
  },
  {
   "cell_type": "code",
   "execution_count": 5,
   "id": "c264f000",
   "metadata": {
    "execution": {
     "iopub.execute_input": "2024-04-15T22:13:57.076928Z",
     "iopub.status.busy": "2024-04-15T22:13:57.075805Z",
     "iopub.status.idle": "2024-04-15T22:13:58.360895Z",
     "shell.execute_reply": "2024-04-15T22:13:58.359290Z"
    },
    "papermill": {
     "duration": 1.296841,
     "end_time": "2024-04-15T22:13:58.364185",
     "exception": false,
     "start_time": "2024-04-15T22:13:57.067344",
     "status": "completed"
    },
    "tags": []
   },
   "outputs": [],
   "source": [
    "from sklearn.feature_extraction.text import CountVectorizer"
   ]
  },
  {
   "cell_type": "code",
   "execution_count": 6,
   "id": "f742da09",
   "metadata": {
    "execution": {
     "iopub.execute_input": "2024-04-15T22:13:58.380565Z",
     "iopub.status.busy": "2024-04-15T22:13:58.379847Z",
     "iopub.status.idle": "2024-04-15T22:14:00.258616Z",
     "shell.execute_reply": "2024-04-15T22:14:00.257278Z"
    },
    "papermill": {
     "duration": 1.89084,
     "end_time": "2024-04-15T22:14:00.262070",
     "exception": false,
     "start_time": "2024-04-15T22:13:58.371230",
     "status": "completed"
    },
    "tags": []
   },
   "outputs": [],
   "source": [
    "vectorizer = CountVectorizer()\n",
    "X_vectorized = vectorizer.fit_transform(X_train)"
   ]
  },
  {
   "cell_type": "code",
   "execution_count": 7,
   "id": "15369ad9",
   "metadata": {
    "execution": {
     "iopub.execute_input": "2024-04-15T22:14:00.277989Z",
     "iopub.status.busy": "2024-04-15T22:14:00.277504Z",
     "iopub.status.idle": "2024-04-15T22:14:00.286253Z",
     "shell.execute_reply": "2024-04-15T22:14:00.284796Z"
    },
    "papermill": {
     "duration": 0.019573,
     "end_time": "2024-04-15T22:14:00.288695",
     "exception": false,
     "start_time": "2024-04-15T22:14:00.269122",
     "status": "completed"
    },
    "tags": []
   },
   "outputs": [
    {
     "data": {
      "text/plain": [
       "<70000x75003 sparse matrix of type '<class 'numpy.int64'>'\n",
       "\twith 826696 stored elements in Compressed Sparse Row format>"
      ]
     },
     "execution_count": 7,
     "metadata": {},
     "output_type": "execute_result"
    }
   ],
   "source": [
    "X_vectorized"
   ]
  },
  {
   "cell_type": "code",
   "execution_count": 8,
   "id": "d7d8136f",
   "metadata": {
    "execution": {
     "iopub.execute_input": "2024-04-15T22:14:00.305341Z",
     "iopub.status.busy": "2024-04-15T22:14:00.304931Z",
     "iopub.status.idle": "2024-04-15T22:14:00.312509Z",
     "shell.execute_reply": "2024-04-15T22:14:00.311378Z"
    },
    "papermill": {
     "duration": 0.019321,
     "end_time": "2024-04-15T22:14:00.315376",
     "exception": false,
     "start_time": "2024-04-15T22:14:00.296055",
     "status": "completed"
    },
    "tags": []
   },
   "outputs": [],
   "source": [
    "from sklearn.naive_bayes import MultinomialNB"
   ]
  },
  {
   "cell_type": "code",
   "execution_count": 9,
   "id": "0515f74e",
   "metadata": {
    "execution": {
     "iopub.execute_input": "2024-04-15T22:14:00.332222Z",
     "iopub.status.busy": "2024-04-15T22:14:00.331802Z",
     "iopub.status.idle": "2024-04-15T22:14:00.371872Z",
     "shell.execute_reply": "2024-04-15T22:14:00.370674Z"
    },
    "papermill": {
     "duration": 0.051849,
     "end_time": "2024-04-15T22:14:00.374380",
     "exception": false,
     "start_time": "2024-04-15T22:14:00.322531",
     "status": "completed"
    },
    "tags": []
   },
   "outputs": [
    {
     "data": {
      "text/html": [
       "<style>#sk-container-id-1 {color: black;background-color: white;}#sk-container-id-1 pre{padding: 0;}#sk-container-id-1 div.sk-toggleable {background-color: white;}#sk-container-id-1 label.sk-toggleable__label {cursor: pointer;display: block;width: 100%;margin-bottom: 0;padding: 0.3em;box-sizing: border-box;text-align: center;}#sk-container-id-1 label.sk-toggleable__label-arrow:before {content: \"▸\";float: left;margin-right: 0.25em;color: #696969;}#sk-container-id-1 label.sk-toggleable__label-arrow:hover:before {color: black;}#sk-container-id-1 div.sk-estimator:hover label.sk-toggleable__label-arrow:before {color: black;}#sk-container-id-1 div.sk-toggleable__content {max-height: 0;max-width: 0;overflow: hidden;text-align: left;background-color: #f0f8ff;}#sk-container-id-1 div.sk-toggleable__content pre {margin: 0.2em;color: black;border-radius: 0.25em;background-color: #f0f8ff;}#sk-container-id-1 input.sk-toggleable__control:checked~div.sk-toggleable__content {max-height: 200px;max-width: 100%;overflow: auto;}#sk-container-id-1 input.sk-toggleable__control:checked~label.sk-toggleable__label-arrow:before {content: \"▾\";}#sk-container-id-1 div.sk-estimator input.sk-toggleable__control:checked~label.sk-toggleable__label {background-color: #d4ebff;}#sk-container-id-1 div.sk-label input.sk-toggleable__control:checked~label.sk-toggleable__label {background-color: #d4ebff;}#sk-container-id-1 input.sk-hidden--visually {border: 0;clip: rect(1px 1px 1px 1px);clip: rect(1px, 1px, 1px, 1px);height: 1px;margin: -1px;overflow: hidden;padding: 0;position: absolute;width: 1px;}#sk-container-id-1 div.sk-estimator {font-family: monospace;background-color: #f0f8ff;border: 1px dotted black;border-radius: 0.25em;box-sizing: border-box;margin-bottom: 0.5em;}#sk-container-id-1 div.sk-estimator:hover {background-color: #d4ebff;}#sk-container-id-1 div.sk-parallel-item::after {content: \"\";width: 100%;border-bottom: 1px solid gray;flex-grow: 1;}#sk-container-id-1 div.sk-label:hover label.sk-toggleable__label {background-color: #d4ebff;}#sk-container-id-1 div.sk-serial::before {content: \"\";position: absolute;border-left: 1px solid gray;box-sizing: border-box;top: 0;bottom: 0;left: 50%;z-index: 0;}#sk-container-id-1 div.sk-serial {display: flex;flex-direction: column;align-items: center;background-color: white;padding-right: 0.2em;padding-left: 0.2em;position: relative;}#sk-container-id-1 div.sk-item {position: relative;z-index: 1;}#sk-container-id-1 div.sk-parallel {display: flex;align-items: stretch;justify-content: center;background-color: white;position: relative;}#sk-container-id-1 div.sk-item::before, #sk-container-id-1 div.sk-parallel-item::before {content: \"\";position: absolute;border-left: 1px solid gray;box-sizing: border-box;top: 0;bottom: 0;left: 50%;z-index: -1;}#sk-container-id-1 div.sk-parallel-item {display: flex;flex-direction: column;z-index: 1;position: relative;background-color: white;}#sk-container-id-1 div.sk-parallel-item:first-child::after {align-self: flex-end;width: 50%;}#sk-container-id-1 div.sk-parallel-item:last-child::after {align-self: flex-start;width: 50%;}#sk-container-id-1 div.sk-parallel-item:only-child::after {width: 0;}#sk-container-id-1 div.sk-dashed-wrapped {border: 1px dashed gray;margin: 0 0.4em 0.5em 0.4em;box-sizing: border-box;padding-bottom: 0.4em;background-color: white;}#sk-container-id-1 div.sk-label label {font-family: monospace;font-weight: bold;display: inline-block;line-height: 1.2em;}#sk-container-id-1 div.sk-label-container {text-align: center;}#sk-container-id-1 div.sk-container {/* jupyter's `normalize.less` sets `[hidden] { display: none; }` but bootstrap.min.css set `[hidden] { display: none !important; }` so we also need the `!important` here to be able to override the default hidden behavior on the sphinx rendered scikit-learn.org. See: https://github.com/scikit-learn/scikit-learn/issues/21755 */display: inline-block !important;position: relative;}#sk-container-id-1 div.sk-text-repr-fallback {display: none;}</style><div id=\"sk-container-id-1\" class=\"sk-top-container\"><div class=\"sk-text-repr-fallback\"><pre>MultinomialNB()</pre><b>In a Jupyter environment, please rerun this cell to show the HTML representation or trust the notebook. <br />On GitHub, the HTML representation is unable to render, please try loading this page with nbviewer.org.</b></div><div class=\"sk-container\" hidden><div class=\"sk-item\"><div class=\"sk-estimator sk-toggleable\"><input class=\"sk-toggleable__control sk-hidden--visually\" id=\"sk-estimator-id-1\" type=\"checkbox\" checked><label for=\"sk-estimator-id-1\" class=\"sk-toggleable__label sk-toggleable__label-arrow\">MultinomialNB</label><div class=\"sk-toggleable__content\"><pre>MultinomialNB()</pre></div></div></div></div></div>"
      ],
      "text/plain": [
       "MultinomialNB()"
      ]
     },
     "execution_count": 9,
     "metadata": {},
     "output_type": "execute_result"
    }
   ],
   "source": [
    "nb_model = MultinomialNB()\n",
    "nb_model.fit(X_vectorized, y_train)"
   ]
  },
  {
   "cell_type": "code",
   "execution_count": 10,
   "id": "c0b17c23",
   "metadata": {
    "execution": {
     "iopub.execute_input": "2024-04-15T22:14:00.393225Z",
     "iopub.status.busy": "2024-04-15T22:14:00.391739Z",
     "iopub.status.idle": "2024-04-15T22:14:00.493544Z",
     "shell.execute_reply": "2024-04-15T22:14:00.492411Z"
    },
    "papermill": {
     "duration": 0.113784,
     "end_time": "2024-04-15T22:14:00.496755",
     "exception": false,
     "start_time": "2024-04-15T22:14:00.382971",
     "status": "completed"
    },
    "tags": []
   },
   "outputs": [],
   "source": [
    "X_test = pd.read_csv('/kaggle/input/enap-anlise-de-sentimentos/test.csv', index_col=0)"
   ]
  },
  {
   "cell_type": "code",
   "execution_count": 11,
   "id": "3eefb5b4",
   "metadata": {
    "execution": {
     "iopub.execute_input": "2024-04-15T22:14:00.514611Z",
     "iopub.status.busy": "2024-04-15T22:14:00.513493Z",
     "iopub.status.idle": "2024-04-15T22:14:00.519053Z",
     "shell.execute_reply": "2024-04-15T22:14:00.518143Z"
    },
    "papermill": {
     "duration": 0.017287,
     "end_time": "2024-04-15T22:14:00.521562",
     "exception": false,
     "start_time": "2024-04-15T22:14:00.504275",
     "status": "completed"
    },
    "tags": []
   },
   "outputs": [],
   "source": [
    "X_test = X_test['text']"
   ]
  },
  {
   "cell_type": "code",
   "execution_count": 12,
   "id": "33f0eb30",
   "metadata": {
    "execution": {
     "iopub.execute_input": "2024-04-15T22:14:00.539063Z",
     "iopub.status.busy": "2024-04-15T22:14:00.538221Z",
     "iopub.status.idle": "2024-04-15T22:14:01.169749Z",
     "shell.execute_reply": "2024-04-15T22:14:01.168794Z"
    },
    "papermill": {
     "duration": 0.643434,
     "end_time": "2024-04-15T22:14:01.172482",
     "exception": false,
     "start_time": "2024-04-15T22:14:00.529048",
     "status": "completed"
    },
    "tags": []
   },
   "outputs": [],
   "source": [
    "X_vectorized = vectorizer.transform(X_test)"
   ]
  },
  {
   "cell_type": "code",
   "execution_count": 13,
   "id": "e39be507",
   "metadata": {
    "execution": {
     "iopub.execute_input": "2024-04-15T22:14:01.189802Z",
     "iopub.status.busy": "2024-04-15T22:14:01.189133Z",
     "iopub.status.idle": "2024-04-15T22:14:01.196724Z",
     "shell.execute_reply": "2024-04-15T22:14:01.195560Z"
    },
    "papermill": {
     "duration": 0.019082,
     "end_time": "2024-04-15T22:14:01.199264",
     "exception": false,
     "start_time": "2024-04-15T22:14:01.180182",
     "status": "completed"
    },
    "tags": []
   },
   "outputs": [
    {
     "data": {
      "text/plain": [
       "<30000x75003 sparse matrix of type '<class 'numpy.int64'>'\n",
       "\twith 332109 stored elements in Compressed Sparse Row format>"
      ]
     },
     "execution_count": 13,
     "metadata": {},
     "output_type": "execute_result"
    }
   ],
   "source": [
    "X_vectorized"
   ]
  },
  {
   "cell_type": "code",
   "execution_count": 14,
   "id": "82bb9516",
   "metadata": {
    "execution": {
     "iopub.execute_input": "2024-04-15T22:14:01.216758Z",
     "iopub.status.busy": "2024-04-15T22:14:01.215433Z",
     "iopub.status.idle": "2024-04-15T22:14:01.228708Z",
     "shell.execute_reply": "2024-04-15T22:14:01.227420Z"
    },
    "papermill": {
     "duration": 0.025001,
     "end_time": "2024-04-15T22:14:01.231813",
     "exception": false,
     "start_time": "2024-04-15T22:14:01.206812",
     "status": "completed"
    },
    "tags": []
   },
   "outputs": [],
   "source": [
    "y_pred = nb_model.predict(X_vectorized)"
   ]
  },
  {
   "cell_type": "code",
   "execution_count": 15,
   "id": "522d4d4f",
   "metadata": {
    "execution": {
     "iopub.execute_input": "2024-04-15T22:14:01.249737Z",
     "iopub.status.busy": "2024-04-15T22:14:01.249302Z",
     "iopub.status.idle": "2024-04-15T22:14:01.255622Z",
     "shell.execute_reply": "2024-04-15T22:14:01.254727Z"
    },
    "papermill": {
     "duration": 0.01788,
     "end_time": "2024-04-15T22:14:01.257920",
     "exception": false,
     "start_time": "2024-04-15T22:14:01.240040",
     "status": "completed"
    },
    "tags": []
   },
   "outputs": [
    {
     "data": {
      "text/plain": [
       "array([4, 4, 0, ..., 0, 0, 4])"
      ]
     },
     "execution_count": 15,
     "metadata": {},
     "output_type": "execute_result"
    }
   ],
   "source": [
    "y_pred"
   ]
  },
  {
   "cell_type": "code",
   "execution_count": 16,
   "id": "72646528",
   "metadata": {
    "execution": {
     "iopub.execute_input": "2024-04-15T22:14:01.275836Z",
     "iopub.status.busy": "2024-04-15T22:14:01.274703Z",
     "iopub.status.idle": "2024-04-15T22:14:01.285780Z",
     "shell.execute_reply": "2024-04-15T22:14:01.284343Z"
    },
    "papermill": {
     "duration": 0.022665,
     "end_time": "2024-04-15T22:14:01.288280",
     "exception": false,
     "start_time": "2024-04-15T22:14:01.265615",
     "status": "completed"
    },
    "tags": []
   },
   "outputs": [
    {
     "name": "stdout",
     "output_type": "stream",
     "text": [
      "         target\n",
      "ID             \n",
      "1432466       4\n",
      "986192        4\n",
      "485147        0\n",
      "1265743       0\n",
      "346809        0\n",
      "...         ...\n",
      "830710        4\n",
      "27247         4\n",
      "104191        0\n",
      "185927        0\n",
      "1576861       4\n",
      "\n",
      "[30000 rows x 1 columns]\n"
     ]
    }
   ],
   "source": [
    "pred = pd.DataFrame({'target': y_pred}, index=X_test.index)\n",
    "\n",
    "print(pred)"
   ]
  },
  {
   "cell_type": "code",
   "execution_count": 17,
   "id": "99fa0339",
   "metadata": {
    "execution": {
     "iopub.execute_input": "2024-04-15T22:14:01.306583Z",
     "iopub.status.busy": "2024-04-15T22:14:01.305284Z",
     "iopub.status.idle": "2024-04-15T22:14:01.355787Z",
     "shell.execute_reply": "2024-04-15T22:14:01.354322Z"
    },
    "papermill": {
     "duration": 0.062579,
     "end_time": "2024-04-15T22:14:01.358646",
     "exception": false,
     "start_time": "2024-04-15T22:14:01.296067",
     "status": "completed"
    },
    "tags": []
   },
   "outputs": [],
   "source": [
    "pred.to_csv('/kaggle/working/submission.csv')"
   ]
  },
  {
   "cell_type": "code",
   "execution_count": null,
   "id": "b92882e6",
   "metadata": {
    "papermill": {
     "duration": 0.007463,
     "end_time": "2024-04-15T22:14:01.374528",
     "exception": false,
     "start_time": "2024-04-15T22:14:01.367065",
     "status": "completed"
    },
    "tags": []
   },
   "outputs": [],
   "source": []
  }
 ],
 "metadata": {
  "kaggle": {
   "accelerator": "none",
   "dataSources": [
    {
     "databundleVersionId": 8101446,
     "sourceId": 73427,
     "sourceType": "competition"
    }
   ],
   "dockerImageVersionId": 30684,
   "isGpuEnabled": false,
   "isInternetEnabled": true,
   "language": "python",
   "sourceType": "notebook"
  },
  "kernelspec": {
   "display_name": "Python 3",
   "language": "python",
   "name": "python3"
  },
  "language_info": {
   "codemirror_mode": {
    "name": "ipython",
    "version": 3
   },
   "file_extension": ".py",
   "mimetype": "text/x-python",
   "name": "python",
   "nbconvert_exporter": "python",
   "pygments_lexer": "ipython3",
   "version": "3.10.13"
  },
  "papermill": {
   "default_parameters": {},
   "duration": 9.40832,
   "end_time": "2024-04-15T22:14:02.004436",
   "environment_variables": {},
   "exception": null,
   "input_path": "__notebook__.ipynb",
   "output_path": "__notebook__.ipynb",
   "parameters": {},
   "start_time": "2024-04-15T22:13:52.596116",
   "version": "2.5.0"
  }
 },
 "nbformat": 4,
 "nbformat_minor": 5
}
